{
 "cells": [
  {
   "cell_type": "markdown",
   "id": "a7f0299b",
   "metadata": {},
   "source": [
    "<div>\n",
    "  <img style=\"float: left;\"  width=\"140\" src=\" data:image/png;base64,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\">\n",
    "</div>\n",
    " \n",
    "<h1 id=\"course-title-heading\">\n",
    "    <div style=\"text-align: right\">\n",
    "        Models of Higher Brain Functions\n",
    "        <br>Computer Course\n",
    "        <br>\n",
    "    </div>\n",
    "</h1>\n",
    "    \n",
    "---\n",
    "<div style=\"text-align: left; float: left\">\n",
    "    Lecturer: Prof. Dr. Henning Sprekeler\n",
    "</div>\n",
    "\n",
    "<div style=\"text-align: right\">\n",
    "    Assistant: Felix Lundt\n",
    "    <br>(lundt@tu-berlin.de)\n",
    "</div>\n",
    "\n"
   ]
  },
  {
   "cell_type": "markdown",
   "id": "772aeaa6",
   "metadata": {},
   "source": [
    "## General exercise instructions\n",
    "These exercises should be completed entirely in this Jupyter Notebook (comprising source code, discussion and interpretation). Submission should be done through the Moodle interface and should consist only of this notebook (**a single `.ipynb` file**). This Jupyter Notebook was provided inside a `.zip` file, alongside additional files. Do not change the relative paths of these files when working on the assignment (meaning that e.g. `./helper.py` should always be in the same directory as this notebook).\n",
    "\n",
    "Submission deadline is the start of the next lectue (**10:15 am on Fridays**).\n",
    "\n",
    "Before you turn this problem in, make sure everything runs as expected. First, **restart the kernel** (in the menubar, select Kernel$\\rightarrow$Restart) and then **run all cells** (in the menubar, select Cell$\\rightarrow$Run All).\n",
    "\n",
    "Some of the exercises will be automatically graded. Make sure that you:\n",
    "1. Fill in any place that says `YOUR CODE HERE` or \"YOUR ANSWER HERE\"\n",
    "2. Remove all `raise NotImplementedError` lines once you inserted your solution\n",
    "3. Don't use variable names starting with underscore (e.g. `_myvar`) in your code, which could interfere with the automatic grading system.\n",
    "\n",
    "Before you start, please fill in below your names and the name of your group as shown on Moodle. Example:\n",
    "```\n",
    "NAMES = [\"Martina Musterfrau\", \"John Smith\"]\n",
    "GROUP = \"A\"\n",
    "```\n",
    "\n",
    "If you have any questions about the exercises, please ask them **on the Moodle forum** of the course."
   ]
  },
  {
   "cell_type": "code",
   "execution_count": 1,
   "id": "7502632b",
   "metadata": {},
   "outputs": [],
   "source": [
    "NAMES = [\"Liam Fogarty\", \"Ghadi El Hasbani\"]\n",
    "GROUP = \"G\""
   ]
  },
  {
   "cell_type": "code",
   "execution_count": 2,
   "id": "5a77e7e0",
   "metadata": {},
   "outputs": [],
   "source": [
    "# These are a few tests to make sure that your installed Python software is not too old\n",
    "import sys\n",
    "assert sys.version_info.major >= 3, \"Your Python version is too old, please update it.\"\n",
    "\n",
    "import IPython\n",
    "assert IPython.version_info[0] >= 3, \"Your IPython version is too old, please update it.\""
   ]
  },
  {
   "cell_type": "markdown",
   "id": "34cb35e8",
   "metadata": {},
   "source": [
    "---"
   ]
  },
  {
   "cell_type": "markdown",
   "id": "earned-class",
   "metadata": {
    "deletable": false,
    "editable": false,
    "nbgrader": {
     "cell_type": "markdown",
     "checksum": "0e6a3719b7ba189386148f8aa6304851",
     "grade": false,
     "grade_id": "cell-9e7b83d6123e447c",
     "locked": true,
     "schema_version": 3,
     "solution": false,
     "task": false
    },
    "toc": true
   },
   "source": [
    "<h1>Table of contents<span class=\"tocSkip\"></span></h1>\n",
    "<div class=\"toc\"><ul class=\"toc-item\"><li><span><a href=\"#Exercise-1:-Singular-Value-Mode-Convergence-(10-points)\" data-toc-modified-id=\"Exercise-1:-Singular-Value-Mode-Convergence-(10-points)-1\">Exercise 1: Singular Value Mode Convergence (10 points)</a></span><ul class=\"toc-item\"><li><span><a href=\"#1.1:-Implement-the-weight-updates\" data-toc-modified-id=\"1.1:-Implement-the-weight-updates-1.1\">1.1: Implement the weight updates</a></span><ul class=\"toc-item\"><li><span><a href=\"#1.1-a)-Define-the-covariance-matrices-and-their-SVD-(1-point)\" data-toc-modified-id=\"1.1-a)-Define-the-covariance-matrices-and-their-SVD-(1-point)-1.1.1\">1.1 a) Define the covariance matrices and their SVD (1 point)</a></span></li><li><span><a href=\"#1.1-b)-Implement-weight-updates-for-a-deep-network-(1-point)\" data-toc-modified-id=\"1.1-b)-Implement-weight-updates-for-a-deep-network-(1-point)-1.1.2\">1.1 b) Implement weight updates for a <em>deep</em> network (1 point)</a></span></li><li><span><a href=\"#1.1-c)-Implement-weight-update-for-a-shallow-network-(1-point)\" data-toc-modified-id=\"1.1-c)-Implement-weight-update-for-a-shallow-network-(1-point)-1.1.3\">1.1 c) Implement weight update for a <em>shallow</em> network (1 point)</a></span></li></ul></li><li><span><a href=\"#1.2:-Simulate-learning-and-singular-value-mode-dynamics\" data-toc-modified-id=\"1.2:-Simulate-learning-and-singular-value-mode-dynamics-1.2\">1.2: Simulate learning and singular value mode dynamics</a></span><ul class=\"toc-item\"><li><span><a href=\"#1.2-a)-Integrate-the-weight-dynamics-(2-point)\" data-toc-modified-id=\"1.2-a)-Integrate-the-weight-dynamics-(2-point)-1.2.1\">1.2 a) Integrate the weight dynamics (2 point)</a></span></li><li><span><a href=\"#1.2-b)-Plot-singular-values-modes-(1-point)\" data-toc-modified-id=\"1.2-b)-Plot-singular-values-modes-(1-point)-1.2.2\">1.2 b) Plot singular values modes (1 point)</a></span></li><li><span><a href=\"#1.2-c)-Discuss-your-results-(1-point)\" data-toc-modified-id=\"1.2-c)-Discuss-your-results-(1-point)-1.2.3\">1.2 c) Discuss your results (1 point)</a></span></li></ul></li><li><span><a href=\"#1.3-Compare-simulation-and-theory\" data-toc-modified-id=\"1.3-Compare-simulation-and-theory-1.3\">1.3 Compare simulation and theory</a></span><ul class=\"toc-item\"><li><span><a href=\"#1.3-a)-Implement-the-analytical-solutions-(1-point)\" data-toc-modified-id=\"1.3-a)-Implement-the-analytical-solutions-(1-point)-1.3.1\">1.3 a) Implement the analytical solutions (1 point)</a></span></li><li><span><a href=\"#1.3-b)-Plot-analytical-and-empirical-singulare-value-dynamics-(1-point)\" data-toc-modified-id=\"1.3-b)-Plot-analytical-and-empirical-singulare-value-dynamics-(1-point)-1.3.2\">1.3 b) Plot analytical and empirical singulare value dynamics (1 point)</a></span></li><li><span><a href=\"#1.3-c)-Discuss-your-results-(1-point)\" data-toc-modified-id=\"1.3-c)-Discuss-your-results-(1-point)-1.3.3\">1.3 c) Discuss your results (1 point)</a></span></li></ul></li></ul></li><li><span><a href=\"#Exercise-2:-Deeper-(non-)linear-networks-with-automatic-differentiation-(10-points)\" data-toc-modified-id=\"Exercise-2:-Deeper-(non-)linear-networks-with-automatic-differentiation-(10-points)-2\">Exercise 2: Deeper (non-)linear networks with automatic differentiation (10 points)</a></span><ul class=\"toc-item\"><li><span><a href=\"#2.0-Data-generation-and-PyTorch-examples-(0-points)\" data-toc-modified-id=\"2.0-Data-generation-and-PyTorch-examples-(0-points)-2.1\">2.0 Data generation and PyTorch examples (0 points)</a></span><ul class=\"toc-item\"><li><span><a href=\"#2.0-a)-Generating-data-with-DiffuseTreeSampler\" data-toc-modified-id=\"2.0-a)-Generating-data-with-DiffuseTreeSampler-2.1.1\">2.0 a) Generating data with <code>DiffuseTreeSampler</code></a></span></li><li><span><a href=\"#2.0-b)-PyTorch-example-for-a-feedforward-neural-network\" data-toc-modified-id=\"2.0-b)-PyTorch-example-for-a-feedforward-neural-network-2.1.2\">2.0 b) PyTorch example for a feedforward neural network</a></span></li></ul></li><li><span><a href=\"#2.1:-Implement-a-variable-depth-deep-linear-network-(1-point)\" data-toc-modified-id=\"2.1:-Implement-a-variable-depth-deep-linear-network-(1-point)-2.2\">2.1: Implement a variable depth deep linear network (1 point)</a></span></li><li><span><a href=\"#2.2:-Define-the-online-gradient-descent-training-loop-(3-points)\" data-toc-modified-id=\"2.2:-Define-the-online-gradient-descent-training-loop-(3-points)-2.3\">2.2: Define the online gradient descent training loop (3 points)</a></span></li><li><span><a href=\"#2.3-Generate-a-data-set-and-train-your-deep-linear-network-(3-points):\" data-toc-modified-id=\"2.3-Generate-a-data-set-and-train-your-deep-linear-network-(3-points):-2.4\">2.3 Generate a data set and train your deep linear network (3 points):</a></span></li><li><span><a href=\"#2.4-Train-a-deep-non-linear-network-(3-points)\" data-toc-modified-id=\"2.4-Train-a-deep-non-linear-network-(3-points)-2.5\">2.4 Train a deep non-linear network (3 points)</a></span></li></ul></li></ul></div>"
   ]
  },
  {
   "cell_type": "markdown",
   "id": "desirable-video",
   "metadata": {
    "deletable": false,
    "editable": false,
    "nbgrader": {
     "cell_type": "markdown",
     "checksum": "611b4f94717347097fff600489bfcf9e",
     "grade": false,
     "grade_id": "cell-c35a5a0c587f76c1",
     "locked": true,
     "schema_version": 3,
     "solution": false,
     "task": false
    }
   },
   "source": [
    "# Week 1: Learning Dynamics in Deep Linear Networks"
   ]
  },
  {
   "cell_type": "code",
   "execution_count": 2,
   "id": "integrated-harris",
   "metadata": {
    "deletable": false,
    "editable": false,
    "nbgrader": {
     "cell_type": "code",
     "checksum": "c341d67882ca97f63027c5bf82ce3de9",
     "grade": false,
     "grade_id": "cell-78346dc3a8730613",
     "locked": true,
     "schema_version": 3,
     "solution": false,
     "task": false
    }
   },
   "outputs": [],
   "source": [
    "# Necessary imports for this exercise, you can't modify these\n",
    "import numpy as np\n",
    "import matplotlib.pyplot as plt\n",
    "\n",
    "# Import assert function defined in the ./helpers.py file\n",
    "from helpers import assert_var_defined"
   ]
  },
  {
   "cell_type": "code",
   "execution_count": null,
   "id": "drawn-angel",
   "metadata": {},
   "outputs": [],
   "source": [
    "# You can add your additional package imports here\n",
    "\n",
    "# Create plots inline in the Jupyter notebook\n",
    "%matplotlib inline"
   ]
  },
  {
   "cell_type": "markdown",
   "id": "separated-bernard",
   "metadata": {
    "deletable": false,
    "editable": false,
    "nbgrader": {
     "cell_type": "markdown",
     "checksum": "670d821a390cce4b0c4d2fa27d4730dd",
     "grade": false,
     "grade_id": "cell-a32f789a8f18fba8",
     "locked": true,
     "schema_version": 3,
     "solution": false,
     "task": false
    }
   },
   "source": [
    "## Exercise 1: Singular Value Mode Convergence (10 points)\n",
    "\n",
    "This exercise provides computational insights into the learning dynamics in a *deep* linear network \\& contrasts them with a *shallow* network. The content of this exercise sheet is closely connected to the analytical exercise sheet, where the equations used here are derived. Read throught the analytical exercise sheet once before starting this one (even if you don't intend to hand in the analytical exercise).\n",
    "\n",
    "For the first exercise you are given a set of feature and target covariance matrices:\n",
    "\n",
    "\\begin{align*}\n",
    "\t\\mathbb{E}[xx^T] = \\Sigma^{x} =\n",
    "\t\\begin{bmatrix}\n",
    "    1 & 0 & 0 & 0 \\\\\n",
    "    0 & 1 & 0 & 0\\\\\n",
    "\t0 & 0 & 1 & 0\\\\\n",
    "\t0 & 0 & 0 & 1\\\\\n",
    "    \\end{bmatrix} \\ \\ \\text{   and   } \\ \\\n",
    "\t\\mathbb{E}[yx^T] = \\Sigma^{yx} = \\begin{bmatrix}\n",
    "    1 & 1 & 1 & 1 \\\\\n",
    "    1 & 1 & 0 & 0 \\\\\n",
    "    0 & 0 & 1 & 1 \\\\\n",
    "    1 & 0 & 0 & 0 \\\\\n",
    "    0 & 1 & 0 & 0 \\\\\n",
    "    0 & 0 & 1 & 0 \\\\\n",
    "    0 & 0 & 0 & 1 \\\\\n",
    "    \\end{bmatrix} \\ .\n",
    "\\end{align*}\n",
    "\n",
    "Throughout this exercise the *deep* linear network is defined to have a single hidden layer with 16 hidden units and $W^1 \\in \\mathbb{R}^{16 \\times 4}$ and $W^2 \\in \\mathbb{R}^{7 \\times 16}$:\n",
    "\n",
    "$$\\hat{y} = W^2 W^1 x \\ ,$$\n",
    "\n",
    "while the *shallow* network is a simple input-output mapping without any hidden layers and $W^{\\text{shallow}} \\in \\mathbb{R}^{7 \\times 4}$:\n",
    "\n",
    "$$\\hat{y} = W^{\\text{shallow}}x \\ .$$\n",
    "\n",
    "Furthermore, the singular value decomposition of the input-output covariance matrix can be written as:\n",
    "\n",
    "$$\\Sigma^{yx} = U S V^T \\ ,$$\n",
    "\n",
    "where $S \\in \\mathbb{R}^{4 \\times 4}$ denotes the singular value diagonal matrix with non-zero elements $s_\\alpha, \\alpha=1, \\dots, 4$."
   ]
  },
  {
   "cell_type": "markdown",
   "id": "rolled-theta",
   "metadata": {
    "deletable": false,
    "editable": false,
    "nbgrader": {
     "cell_type": "markdown",
     "checksum": "c0c459369ac183fc2a4ebdac329ad829",
     "grade": false,
     "grade_id": "instructions_1-1",
     "locked": true,
     "schema_version": 3,
     "solution": false,
     "task": false
    }
   },
   "source": [
    "### 1.1: Implement the weight updates\n",
    "\n",
    "First, you will implement the mean weight update equations in the continuous time limit using forward Euler integration.\n",
    "\n",
    "The mean weight update equations for the *deep* network are:\n",
    "\n",
    "\\begin{align}\n",
    "\\tau \\frac{d}{dt} W^1 &= W^{2^T} (\\Sigma^{yx} - W^2 W^1 \\Sigma^x) \\\\\\\\\n",
    "\\tau \\frac{d}{dt} W^2 &= (\\Sigma^{yx} - W^2 W^1 \\Sigma^x)W^{1^T}\n",
    "\\end{align}\n",
    "\n",
    "And for the *shallow* network:\n",
    "\n",
    "\\begin{align}\n",
    "\\tau \\frac{d}{dt} W^{\\text{shallow}} &= \\Sigma^{yx} - W^{\\text{shallow}} \\Sigma^x\n",
    "\\end{align}\n",
    "\n",
    "To understand where the update equations come from, have a look at the analytical exercise sheet."
   ]
  },
  {
   "cell_type": "markdown",
   "id": "explicit-northwest",
   "metadata": {
    "deletable": false,
    "editable": false,
    "nbgrader": {
     "cell_type": "markdown",
     "checksum": "8e3ba731f57557a83d7a4247f51eed7f",
     "grade": false,
     "grade_id": "instructions_1-1-a",
     "locked": true,
     "schema_version": 3,
     "solution": false,
     "task": false
    }
   },
   "source": [
    "#### 1.1 a) Define the covariance matrices and their SVD (1 point)\n",
    "Define two variables `sigma_x` and `sigma_yx` for the covariance matrices $\\Sigma^x$ and $\\Sigma^{yx}$. Then compute the singular value decomposition (SVD) of the input-output covariance matrix (e.g. by using [`np.linalg.svd`](https://numpy.org/doc/stable/reference/generated/numpy.linalg.svd.html)). Store the resulting singular value diagonal matrix $S$ in a variable called `s` (lower case).\n",
    "\n",
    "This task will be automatically graded. Please make sure that you use the variable names as instructed here and that you delete the `raise NotImplementedError()` line."
   ]
  },
  {
   "cell_type": "code",
   "execution_count": 51,
   "id": "minimal-variance",
   "metadata": {
    "deletable": false,
    "nbgrader": {
     "cell_type": "code",
     "checksum": "64e43377e95dd7757a114816dcef8322",
     "grade": false,
     "grade_id": "cell-d49058ec16985ebf",
     "locked": false,
     "schema_version": 3,
     "solution": true,
     "task": false
    }
   },
   "outputs": [],
   "source": [
    "sigma_x = np.identity(4)\n",
    "sigma_yx = np.array([[1, 1, 1, 1],\n",
    "                     [1, 1, 0, 0],\n",
    "                     [0, 0, 1, 1],\n",
    "                     [1, 0, 0, 0],\n",
    "                     [0, 1, 0, 0],\n",
    "                     [0, 0, 1, 0],\n",
    "                     [0, 0, 0, 1]])\n",
    "u, s, v = np.linalg.svd(sigma_yx)"
   ]
  },
  {
   "cell_type": "markdown",
   "id": "communist-peace",
   "metadata": {
    "deletable": false,
    "editable": false,
    "nbgrader": {
     "cell_type": "markdown",
     "checksum": "c9829d9047e4617497632e759542e3b0",
     "grade": false,
     "grade_id": "cell-4f4adcd4f290d20c",
     "locked": true,
     "schema_version": 3,
     "solution": false,
     "task": false
    }
   },
   "source": [
    "The following code cell will check if you defined the correct variable names. Run it to make sure you did."
   ]
  },
  {
   "cell_type": "code",
   "execution_count": 52,
   "id": "graduate-question",
   "metadata": {
    "deletable": false,
    "editable": false,
    "nbgrader": {
     "cell_type": "code",
     "checksum": "5255003a6e04dde3c06b130e5998cf78",
     "grade": true,
     "grade_id": "cell-e35d86e0a4a6d6d6",
     "locked": true,
     "points": 1,
     "schema_version": 3,
     "solution": false,
     "task": false
    }
   },
   "outputs": [],
   "source": [
    "\"\"\" Test that variables `sigma_x`, `sigma_yx` and `s` are defined \"\"\"\n",
    "\n",
    "for varname in [\"sigma_x\", \"sigma_yx\", \"s\"]:\n",
    "    assert_var_defined(varname)\n",
    "    "
   ]
  },
  {
   "cell_type": "markdown",
   "id": "differential-spirituality",
   "metadata": {
    "deletable": false,
    "editable": false,
    "nbgrader": {
     "cell_type": "markdown",
     "checksum": "4382a9ad3c14b7f0b90613fd763bee74",
     "grade": false,
     "grade_id": "cell-e21e2cbd0f6e65d5",
     "locked": true,
     "schema_version": 3,
     "solution": false,
     "task": false
    }
   },
   "source": [
    "#### 1.1 b) Implement weight updates for a *deep* network (1 point)\n",
    "Implement the weight updates for the *deep* linear network in the function `update_deep_network_weights` below (don't change the order of function arguments and return values)."
   ]
  },
  {
   "cell_type": "code",
   "execution_count": 55,
   "id": "geological-roman",
   "metadata": {
    "deletable": false,
    "nbgrader": {
     "cell_type": "code",
     "checksum": "be229d4d303c9cd207707ae96b33ca08",
     "grade": false,
     "grade_id": "update_linear_network",
     "locked": false,
     "schema_version": 3,
     "solution": true,
     "task": false
    }
   },
   "outputs": [],
   "source": [
    "def update_deep_network_weights(w1, w2, dt, tau, sigma_x, sigma_yx):\n",
    "    \"\"\"\n",
    "    Update the deep network weights for one integration time step.\n",
    "    \n",
    "    Parameters\n",
    "    ----------\n",
    "    w1 : numpy.ndarray\n",
    "        W1 weight matrix, connecting input to hidden layer\n",
    "    w2 : numpy.ndarray\n",
    "        W2 weight matrix, connection hidden to output layer\n",
    "    dt : float\n",
    "        Integration time step for forward Euler\n",
    "    tau : float\n",
    "        Time constant of the weight changes (inverse of learning rate)\n",
    "    sigma_x : numpy.ndarray\n",
    "        Input covariance matrix\n",
    "    sigma_yx : numpy.ndarray\n",
    "        Input-output covariance matrix\n",
    "        \n",
    "    Returns\n",
    "    -------\n",
    "    w1_updated : numpy.ndarray\n",
    "        Updated weight matrix W1\n",
    "    w2_updated : numpy.ndarray\n",
    "        Updated weight matrix W2\n",
    "    \"\"\"\n",
    "    dw1 = w2.T @ (sigma_yx - ((w2 @ w1) @ sigma_x)) * dt\n",
    "    dw2 = ((sigma_yx - ((w2 @ w1) @ sigma_x)) @ w1.T) * dt\n",
    "    \n",
    "    w1_updated = w1 + (1/tau)*dw1\n",
    "    w2_updated = w2 + (1/tau)*dw2\n",
    "    return w1_updated, w2_updated"
   ]
  },
  {
   "cell_type": "code",
   "execution_count": 56,
   "id": "awful-soviet",
   "metadata": {
    "deletable": false,
    "editable": false,
    "nbgrader": {
     "cell_type": "code",
     "checksum": "9f9bbce08405027b1f2469619297f838",
     "grade": true,
     "grade_id": "cell-1fa960487c3d2159",
     "locked": true,
     "points": 1,
     "schema_version": 3,
     "solution": false,
     "task": false
    }
   },
   "outputs": [],
   "source": [
    "\"\"\" Test that the function is defined as instructed \"\"\"\n",
    "\n",
    "assert_var_defined(\"update_deep_network_weights\", func=True)\n"
   ]
  },
  {
   "cell_type": "markdown",
   "id": "caring-poverty",
   "metadata": {
    "deletable": false,
    "editable": false,
    "nbgrader": {
     "cell_type": "markdown",
     "checksum": "100a4b2b93ca5435098503511c310f78",
     "grade": false,
     "grade_id": "cell-1cf561e74e4e5b8b",
     "locked": true,
     "schema_version": 3,
     "solution": false,
     "task": false
    }
   },
   "source": [
    "#### 1.1 c) Implement weight update for a *shallow* network (1 point)\n",
    "Implement the weights updates for the *shallow* linear network in the function `update_deep_shallow_weights` below (don't change the the order of function arguments and return values)."
   ]
  },
  {
   "cell_type": "code",
   "execution_count": 57,
   "id": "revolutionary-twins",
   "metadata": {
    "deletable": false,
    "nbgrader": {
     "cell_type": "code",
     "checksum": "a8cf83b8058ada04a8a4a51da517e79c",
     "grade": false,
     "grade_id": "update_shallow_network",
     "locked": false,
     "schema_version": 3,
     "solution": true,
     "task": false
    }
   },
   "outputs": [],
   "source": [
    "def update_shallow_network_weights(w, dt, tau, sgima_x, sigma_yx):\n",
    "    \"\"\"\n",
    "    Update the shallow network weights for one integration time step.\n",
    "    \n",
    "    Parameters\n",
    "    ----------\n",
    "    w : numpy.ndarray\n",
    "        W_shallow weight matrix, connecting input to hidden layer\n",
    "    dt : float\n",
    "        Integration time step for forward Euler\n",
    "    tau : float\n",
    "        Time constant of the weight changes (inverse of learning rate)\n",
    "    sigma_x : numpy.ndarray\n",
    "        Input covariance matrix\n",
    "    sigma_yx : numpy.ndarray\n",
    "        Input-output covariance matrix\n",
    "        \n",
    "    Returns\n",
    "    -------\n",
    "    w_updated : numpy.ndarray\n",
    "        Updated weight matrix W_shallow\n",
    "    \"\"\"\n",
    "    \n",
    "    dw = (sigma_yx - (w @ sgima_x)) * dt\n",
    "    w_updated = w + (1/tau)*dw\n",
    "\n",
    "    return w_updated"
   ]
  },
  {
   "cell_type": "code",
   "execution_count": 58,
   "id": "distant-given",
   "metadata": {
    "deletable": false,
    "editable": false,
    "nbgrader": {
     "cell_type": "code",
     "checksum": "34f0a89f43c8bc62d3ad2d19e24fe74e",
     "grade": true,
     "grade_id": "cell-f9710997e41dd938",
     "locked": true,
     "points": 1,
     "schema_version": 3,
     "solution": false,
     "task": false
    }
   },
   "outputs": [],
   "source": [
    "\"\"\" Test that the function is defined as instructed \"\"\"\n",
    "\n",
    "assert_var_defined(\"update_shallow_network_weights\", func=True)\n"
   ]
  },
  {
   "cell_type": "markdown",
   "id": "severe-plaza",
   "metadata": {
    "deletable": false,
    "editable": false,
    "nbgrader": {
     "cell_type": "markdown",
     "checksum": "f88218be6bbea969b58e18a19199ebb8",
     "grade": false,
     "grade_id": "instructions_1-2",
     "locked": true,
     "schema_version": 3,
     "solution": false,
     "task": false
    }
   },
   "source": [
    "### 1.2: Simulate learning and singular value mode dynamics\n",
    "\n",
    "For the special case of no input correlations ($\\Sigma^X$ is the unit matrix in our example), we get the following fixed point conditions (marked by $*$) from the weight update equations (to see this, set $\\frac{d}{dt} = 0$):\n",
    "\n",
    "- For the *deep* network:\n",
    "\n",
    "$$\n",
    "W^{2,*}W^{1,*} = \\Sigma^{yx} \\\\\n",
    "$$\n",
    "    \n",
    "- For the *shallow* network:\n",
    "\n",
    "$$\n",
    "W^{\\text{shallow},*} = \\Sigma^{yx} \\\\\n",
    "$$\n",
    "    \n",
    "That means the linear network's input-output mapping learns the input-output covariance structure. To investigate the singular value mode dynamics, we can compute the SVDs on the covariance matrix $\\Sigma^{\\hat{y}x}(t)$ between the inputs $x$ and the predicted outputs $\\hat{y}$ at a given time $t$ during learning:\n",
    "\n",
    "- For the *deep* network, this corresponds to the SVD of the matrix product $W^2(t)W^1(t)$:\n",
    "\n",
    "$$\n",
    "\\Sigma^{\\hat{y}x} = W^2(t)W^1(t) = U A(t) V^T \\\\\n",
    "$$\n",
    "    \n",
    "- For the *shallow* network, this corresponds to the SVD of the matrix $W^{\\text{shallow}}$:\n",
    "\n",
    "$$\n",
    "\\Sigma^{\\hat{y}x} = W^{\\text{shallow}}(t) = U B(t) V^T \\\\\n",
    "$$\n",
    "\n",
    "This gives us the singular value modes $a_\\alpha(t)$ and $b_\\alpha(t)$, which are the diagonal elements of the diagonal matrices $A(t)$ and $B(t)$ ($\\alpha = 1, ... 4$).\n",
    "       "
   ]
  },
  {
   "cell_type": "markdown",
   "id": "worthy-wildlife",
   "metadata": {
    "deletable": false,
    "editable": false,
    "nbgrader": {
     "cell_type": "markdown",
     "checksum": "2724a292c34db15e812cbab1ab1bde9a",
     "grade": false,
     "grade_id": "instructions_1-2-a",
     "locked": true,
     "schema_version": 3,
     "solution": false,
     "task": false
    }
   },
   "source": [
    "#### 1.2 a) Integrate the weight dynamics (2 point)\n",
    "Perform weight updates in the *deep* and *shallow* networks for the given covariance matrices $\\Sigma^{x}$ and $\\Sigma^{yx}$ (use the functions defined in 1.1). Start with Gaussian initialised weight matrices (with mean $\\mu = 0$ and standard deviation $\\sigma = 0.01$). Set the time constant $\\tau = 1/\\eta$ with learning rate $\\eta=0.4$ and integrate for a total time $T = 15$ with an integration time step of $\\Delta t = 0.1$. After each update of the weight matrices, compute the singular value modes $a_\\alpha(t)$ and $b_\\alpha(t)$."
   ]
  },
  {
   "cell_type": "code",
   "execution_count": 59,
   "id": "industrial-recognition",
   "metadata": {
    "deletable": false,
    "nbgrader": {
     "cell_type": "code",
     "checksum": "2a3455dfc8239da9a60a6ed59f4cc985",
     "grade": true,
     "grade_id": "cell-624c126f6b919f68",
     "locked": false,
     "points": 2,
     "schema_version": 3,
     "solution": true,
     "task": false
    }
   },
   "outputs": [],
   "source": [
    "mu, sigma = 0, 0.01\n",
    "tau = 1/0.4\n",
    "T = 15\n",
    "dt = 0.1\n",
    "num_modes = 4"
   ]
  },
  {
   "cell_type": "code",
   "execution_count": 60,
   "id": "ec5ffcfd",
   "metadata": {},
   "outputs": [],
   "source": [
    "a = np.ones((int(T/dt), num_modes))\n",
    "b = np.ones((int(T/dt), num_modes))\n",
    "\n",
    "W = np.random.normal(mu, sigma, (7,4))\n",
    "W1 = np.random.normal(mu, sigma, (16,4))\n",
    "W2 = np.random.normal(mu, sigma, (7,16))\n",
    "\n",
    "for t in range(0, int(T/dt)):\n",
    "    # weight updates\n",
    "    W = update_shallow_network_weights(W, dt, tau, sigma_x, sigma_yx)\n",
    "    W1, W2 = update_deep_network_weights(W1, W2, dt, tau, sigma_x, sigma_yx)\n",
    "\n",
    "    # calculate modes\n",
    "    _, S_shallow, _ = np.linalg.svd(W)\n",
    "    b[t] = S_shallow\n",
    "    _, S_deep, _ = np.linalg.svd(W2 @ W1)\n",
    "    a[t] = S_deep\n"
   ]
  },
  {
   "cell_type": "markdown",
   "id": "formal-tucson",
   "metadata": {
    "deletable": false,
    "editable": false,
    "nbgrader": {
     "cell_type": "markdown",
     "checksum": "6dc558dac359e451fab1d3ae6901febd",
     "grade": false,
     "grade_id": "cell-ba89c77174e63c22",
     "locked": true,
     "schema_version": 3,
     "solution": false,
     "task": false
    }
   },
   "source": [
    "#### 1.2 b) Plot singular value modes (1 point)\n",
    "Plot the dynamics of the singular value modes $a_\\alpha(t)$ and $b_\\alpha(t)$, together with the singular values $s_{\\alpha}$ of the covariance matrix $\\Sigma^{yx}$."
   ]
  },
  {
   "cell_type": "code",
   "execution_count": 61,
   "id": "5f7b2ea7",
   "metadata": {},
   "outputs": [
    {
     "name": "stdout",
     "output_type": "stream",
     "text": [
      "[2.64575131 1.73205081 1.         1.        ]\n"
     ]
    }
   ],
   "source": [
    "print(s)"
   ]
  },
  {
   "cell_type": "code",
   "execution_count": 62,
   "id": "8b60a704",
   "metadata": {},
   "outputs": [
    {
     "data": {
      "image/png": "[encoded data removed]",
      "text/plain": [
       "<Figure size 640x480 with 1 Axes>"
      ]
     },
     "metadata": {},
     "output_type": "display_data"
    }
   ],
   "source": [
    "for alpha in range(num_modes):\n",
    "    plt.plot(np.arange(0, T, dt), a[:,alpha], color='red', alpha=0.5)\n",
    "    plt.plot(np.arange(0, T, dt), b[:,alpha], color='green', alpha=0.5)\n",
    "\n",
    "s_values = np.tile(s, (int(T/dt), 1))\n",
    "plt.plot(np.arange(0, T, dt), s_values, color='blue', alpha=0.5)\n",
    "\n",
    "plt.plot([], [], color='red', label='empirical, deep')\n",
    "plt.plot([], [], color='green', label='empirical, shallow')\n",
    "plt.plot([], [], color='blue', label='$s_{alpha}$')\n",
    "\n",
    "plt.ylabel('Value')\n",
    "plt.xlabel('Time')\n",
    "plt.legend()\n",
    "plt.show()"
   ]
  },
  {
   "cell_type": "markdown",
   "id": "entitled-ceramic",
   "metadata": {
    "deletable": false,
    "editable": false,
    "nbgrader": {
     "cell_type": "markdown",
     "checksum": "216c0911ab78ed9888eeb10dfa316da7",
     "grade": false,
     "grade_id": "cell-03418ea394e8a1a7",
     "locked": true,
     "schema_version": 3,
     "solution": false,
     "task": false
    }
   },
   "source": [
    "#### 1.2 c) Discuss your results (1 point)\n",
    "How do the singular value modes between the *deep* and *shallow* network compare to each other and to the singular values of the input-output covariance matrix?"
   ]
  },
  {
   "cell_type": "markdown",
   "id": "attempted-waterproof",
   "metadata": {
    "deletable": false,
    "nbgrader": {
     "cell_type": "markdown",
     "checksum": "871c090c7737d031d58a9630cb44ad0c",
     "grade": true,
     "grade_id": "cell-85ad80140d94f58b",
     "locked": false,
     "points": 1,
     "schema_version": 3,
     "solution": true,
     "task": false
    }
   },
   "source": [
    "The singular value modes of both the deep and shallow network converge to the static singular values of the input-output covariance matrix. The deep network exhibits a faster convergence in the first mode, while the shallow network exhibits a slower convergence in the third and fourth modes. The convergence behaviour appears similar in the second mode with respect to both networks."
   ]
  },
  {
   "cell_type": "markdown",
   "id": "theoretical-projection",
   "metadata": {
    "deletable": false,
    "editable": false,
    "nbgrader": {
     "cell_type": "markdown",
     "checksum": "d589d0c09adbc2735959c8b2f051d783",
     "grade": false,
     "grade_id": "instructions_1-3",
     "locked": true,
     "schema_version": 3,
     "solution": false,
     "task": false
    }
   },
   "source": [
    "### 1.3 Compare simulation and theory\n",
    "For the linear neural networks which you implemented here, the singular value mode dynamics can be computed analytically. The analytical solutions are:\n",
    "\n",
    "- For the *deep* network:\n",
    "\n",
    "$$\n",
    "a_\\alpha(t) = \\frac{s_\\alpha e^{2s_\\alpha t/\\tau}}{e^{2s_\\alpha t/\\tau} - 1 + s_\\alpha/a^0_\\alpha}\n",
    "$$\n",
    "\n",
    "- For the *shallow* network:\n",
    "\n",
    "$$\n",
    "b_\\alpha(t) = s_\\alpha(1-e^{-t/\\tau}) + b_\\alpha^0e^{-t/\\tau}\n",
    "$$"
   ]
  },
  {
   "cell_type": "markdown",
   "id": "australian-replacement",
   "metadata": {
    "deletable": false,
    "editable": false,
    "nbgrader": {
     "cell_type": "markdown",
     "checksum": "fffb0dd156344e22bd2acfb08e97b7e5",
     "grade": false,
     "grade_id": "instructions_1-3-a",
     "locked": true,
     "schema_version": 3,
     "solution": false,
     "task": false
    }
   },
   "source": [
    "#### 1.3 a) Implement the analytical solutions (1 point)\n",
    "Compute the singular value mode dynamics (for different time steps between $t = 0$  and $t = T$) using the analytic solutions with $a_\\alpha^0 = b_\\alpha^0 = 0.001$.\n"
   ]
  },
  {
   "cell_type": "code",
   "execution_count": 63,
   "id": "wound-browser",
   "metadata": {
    "deletable": false,
    "nbgrader": {
     "cell_type": "code",
     "checksum": "f71c70cdbec87d7550b9fba4edba77c7",
     "grade": true,
     "grade_id": "cell-11833a995822dc15",
     "locked": false,
     "points": 1,
     "schema_version": 3,
     "solution": true,
     "task": false
    }
   },
   "outputs": [],
   "source": [
    "a_0, b_0 = 0.001, 0.001\n",
    "a_emp = np.ones((int(T/dt), num_modes))\n",
    "b_emp = np.ones((int(T/dt), num_modes))\n",
    "\n",
    "for alpha in range(0, num_modes):\n",
    "    for t in range(int(T/dt)):\n",
    "        a_emp[t, alpha] = (s[alpha] * np.exp(2*s[alpha]*t/tau)) / (np.exp(2*s[alpha]*t/tau) - 1 + (s[alpha]/a_0))\n",
    "        b_emp[t, alpha] = s[alpha] * (1 - np.exp(-t/tau)) + b_0*np.exp(-t/tau)"
   ]
  },
  {
   "cell_type": "markdown",
   "id": "entire-forward",
   "metadata": {
    "deletable": false,
    "editable": false,
    "nbgrader": {
     "cell_type": "markdown",
     "checksum": "50918bbe35e0c041a227dc88f357219c",
     "grade": false,
     "grade_id": "instructions_1-3-b",
     "locked": true,
     "schema_version": 3,
     "solution": false,
     "task": false
    }
   },
   "source": [
    "#### 1.3 b) Plot analytical and empirical singulare value dynamics (1 point)\n",
    "Plot the analytically calculated singular value mode dynamics together with the empirical ones simulated in the previous section."
   ]
  },
  {
   "cell_type": "code",
   "execution_count": 69,
   "id": "particular-private",
   "metadata": {
    "deletable": false,
    "nbgrader": {
     "cell_type": "code",
     "checksum": "0b1afe5668c395bf981bb5da2f4bde95",
     "grade": true,
     "grade_id": "cell-28c643984d5e4caa",
     "locked": false,
     "points": 1,
     "schema_version": 3,
     "solution": true,
     "task": false
    }
   },
   "outputs": [
    {
     "data": {
      "image/png": "[encoded data removed]",
      "text/plain": [
       "<Figure size 640x480 with 1 Axes>"
      ]
     },
     "metadata": {},
     "output_type": "display_data"
    }
   ],
   "source": [
    "# Plot empirical singular value modes\n",
    "for alpha in range(num_modes):\n",
    "    plt.plot(np.arange(0, T, dt), a[:,alpha], color='red', alpha=0.5)\n",
    "    plt.plot(np.arange(0, T, dt), b[:,alpha], color='green', alpha=0.5)\n",
    "    plt.plot(np.arange(0, T, dt), a_emp[:,alpha], color='black', alpha=0.5)\n",
    "    plt.plot(np.arange(0, T, dt), b_emp[:,alpha], color='purple', alpha=0.5)\n",
    "\n",
    "# Use a single label for the legend\n",
    "plt.scatter([], [], color='red', alpha=0.5, label='analytical, deep')\n",
    "plt.scatter([], [], color='green', alpha=0.5, label='analytical, shallow')\n",
    "plt.scatter([], [], color='black', alpha=0.5, label='empirical, deep')\n",
    "plt.scatter([], [], color='purple', alpha=0.5, label='analytical, shallow')\n",
    "\n",
    "plt.ylabel('Value')\n",
    "plt.xlabel('Mode index (alpha)')\n",
    "plt.legend()\n",
    "plt.show()"
   ]
  },
  {
   "cell_type": "markdown",
   "id": "functioning-bicycle",
   "metadata": {
    "deletable": false,
    "editable": false,
    "nbgrader": {
     "cell_type": "markdown",
     "checksum": "0a347dfa405973d365979dacba6a8c7c",
     "grade": false,
     "grade_id": "instructions_1-3-c",
     "locked": true,
     "schema_version": 3,
     "solution": false,
     "task": false
    }
   },
   "source": [
    "#### 1.3 c) Discuss your results (1 point)\n",
    "How well do theory and simulation align?"
   ]
  },
  {
   "cell_type": "markdown",
   "id": "cognitive-exception",
   "metadata": {
    "deletable": false,
    "nbgrader": {
     "cell_type": "markdown",
     "checksum": "fbea00eeb158a043045f35d0e2d027c0",
     "grade": true,
     "grade_id": "cell-8396cc513cda391f",
     "locked": false,
     "points": 1,
     "schema_version": 3,
     "solution": true,
     "task": false
    }
   },
   "source": [
    "Theory and simulation appear to align well, in the sense that the same relative dynamics discussed before regarding the empirically calculated singular value modes are observed also in the analytically calculated ones. However, the dynamics corresponding to the analytical solutions exhibit a significantly faster convergence to the static singular value modes of the input-output covariance matrix."
   ]
  },
  {
   "cell_type": "markdown",
   "id": "pleased-daisy",
   "metadata": {
    "deletable": false,
    "editable": false,
    "nbgrader": {
     "cell_type": "markdown",
     "checksum": "b66269749d238d327544cf9b569fde31",
     "grade": false,
     "grade_id": "instructions-2",
     "locked": true,
     "schema_version": 3,
     "solution": false,
     "task": false
    }
   },
   "source": [
    "---\n",
    "\n",
    "## Exercise 2: Deeper (non-)linear networks with automatic differentiation (10 points)\n",
    "\n",
    "In this exercise we will probe whether the theoretical results \\& insights from the previous exercise translate to deeper linear networks as well as non-linear networks.\n",
    "\n",
    "Deep Learning is powered by reverse mode automatic differentiation, computational graphs \\& stochastic gradient descent algorithms.\n",
    "We will use the Python library PyTorch for automatic differenatiation due to its easy installation, documentation \\& recent popularity in academic research. If you are unfamiliar with PyTorch, you might find [this introductions](https://pytorch.org/tutorials/beginner/blitz/neural_networks_tutorial.html) useful. Don't worry, the trained networks are fairly small, do not involve convolutions \\& can therefore easily be trained on any CPU.\n",
    "\n",
    "You can install PyTorch e.g. via `pip install torch` or `conda install pytorch`. If it doesn't work out of the box or if you want to have GPU support, you can find a suitable installation command at https://pytorch.org/."
   ]
  },
  {
   "cell_type": "code",
   "execution_count": 3,
   "id": "better-entrance",
   "metadata": {
    "deletable": false,
    "editable": false,
    "nbgrader": {
     "cell_type": "code",
     "checksum": "ab91f9ba411f2135bd2b978b39eeb796",
     "grade": false,
     "grade_id": "cell-711863766a1ce74f",
     "locked": true,
     "schema_version": 3,
     "solution": false,
     "task": false
    }
   },
   "outputs": [],
   "source": [
    "# Necessary imports for this exercise, you can't modify these\n",
    "from collections import OrderedDict\n",
    "\n",
    "try:\n",
    "    import torch\n",
    "except ModuleNotFoundError:\n",
    "    raise ModuleNotFoundError(\n",
    "        \"You need pytorch for this exercise. See installation instructions above.\"\n",
    "    )\n",
    "\n",
    "import torch.nn as nn\n",
    "    \n",
    "from helpers import DiffuseTreeSampler"
   ]
  },
  {
   "cell_type": "markdown",
   "id": "intelligent-project",
   "metadata": {
    "deletable": false,
    "editable": false,
    "nbgrader": {
     "cell_type": "markdown",
     "checksum": "c9426dad7ef735e827c3f4bc3b064479",
     "grade": false,
     "grade_id": "instructions-2-0",
     "locked": true,
     "schema_version": 3,
     "solution": false,
     "task": false
    }
   },
   "source": [
    "### 2.0 Data generation and PyTorch examples (0 points)\n",
    "\n",
    "This section will give an example for how to create a neural network with PyTorch and how to generate data to train it in the following exercises."
   ]
  },
  {
   "cell_type": "markdown",
   "id": "sexual-southeast",
   "metadata": {
    "deletable": false,
    "editable": false,
    "nbgrader": {
     "cell_type": "markdown",
     "checksum": "15f2c779fc2a5ad900edd5b048e13866",
     "grade": false,
     "grade_id": "instructions-2-0-a",
     "locked": true,
     "schema_version": 3,
     "solution": false,
     "task": false
    }
   },
   "source": [
    "#### 2.0 a) Generating data with `DiffuseTreeSampler`\n",
    "\n",
    "In order to train a neural network on the same kind of task as was done in exercise 1, we need a data set $\\{\\bf{x}^\\alpha, y^\\alpha\\}_{\\alpha = 1, \\cdots, N}$ with $N$ data samples, each consisting of an item vector $\\bf{x}^\\alpha$ (the input to our network) and its associated property or feature vector $\\bf{y}^\\alpha$ (the output of our network). We will use the `DiffuseTreeSampler` class to generate such data throughout this exercise. It is defined in `./helpers.py` and implements a hierarchical data-generation process (**no need to implement anything from scratch, you can just used it as shown below**).\n",
    "\n",
    "The hierarchically structured data is generated through a branching diffusion\n",
    "process (see image below). To generate a single feature $y_i^\\alpha$ for multiple items $\\alpha$, an initial binary value is determined through a coin flip at the top of the hierarchy. The sign of this value flips with a small probability along each link in the tree. At the bottom, this yields the value of one feature $y_i^\\alpha$ across items $\\alpha$. Many features are generated by repeatedly sampling from this process independently. The $\\pm 1$ values depicted in the figure below are one possible sampling.\n",
    "\n",
    "<div>\n",
    "    <img width=\"400\" src=\" data:image/png;base64,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\">\n",
    "</div>\n",
    "\n",
    "This figure comes from the Supplementary Information in [Saxe et al. (2019)](https://www.pnas.org/content/116/23/11537), where you can find more information on this process.\n",
    "\n",
    "Below is an example on how to generate data with the `DiffuseTreeSampler` class and how to compute the singular values for the generated data set. The hierarchical structue in the data can be visualized by plotting the covariance matrix of the features.\n",
    "\n",
    "Vary the parameters of the `DiffuseTreeSampler` and see how that changes the structre in the generated data."
   ]
  },
  {
   "cell_type": "code",
   "execution_count": 3,
   "id": "suburban-economy",
   "metadata": {},
   "outputs": [
    {
     "name": "stdout",
     "output_type": "stream",
     "text": [
      "Number of data samples: 64\n",
      "Feature vector dimension: 100\n",
      "Item vector dimension: 64\n",
      "\n",
      "First feature vector:\n",
      "[ 1  1  1  1  1 -1  1  1  1  1 -1 -1 -1 -1  1 -1  1 -1 -1 -1  1  1  1 -1\n",
      " -1 -1  1 -1  1  1  1  1  1 -1 -1  1  1 -1 -1 -1 -1 -1  1 -1  1 -1 -1  1\n",
      "  1 -1 -1 -1  1 -1  1  1  1  1  1 -1 -1  1  1 -1  1  1  1  1 -1 -1  1  1\n",
      " -1  1  1 -1  1  1  1  1  1  1  1  1  1 -1 -1 -1 -1 -1 -1  1 -1 -1 -1  1\n",
      " -1  1  1  1]\n",
      "\n",
      "First item vector:\n",
      "[1. 0. 0. 0. 0. 0. 0. 0. 0. 0. 0. 0. 0. 0. 0. 0. 0. 0. 0. 0. 0. 0. 0. 0.\n",
      " 0. 0. 0. 0. 0. 0. 0. 0. 0. 0. 0. 0. 0. 0. 0. 0. 0. 0. 0. 0. 0. 0. 0. 0.\n",
      " 0. 0. 0. 0. 0. 0. 0. 0. 0. 0. 0. 0. 0. 0. 0. 0.]\n"
     ]
    },
    {
     "data": {
      "image/png": "[encoded data removed]",
      "text/plain": [
       "<Figure size 480x480 with 1 Axes>"
      ]
     },
     "metadata": {},
     "output_type": "display_data"
    }
   ],
   "source": [
    "# Create the dataset by instantiating and sampling\n",
    "hierarchical_tree = DiffuseTreeSampler(feature_dim=100, tree_depth=3,\n",
    "                                       branching_factor=4, sample_epsilon=0.05)\n",
    "features, items = hierarchical_tree.sample_data()\n",
    "\n",
    "assert features.shape[0] == items.shape[0]\n",
    "print(f\"Number of data samples: {features.shape[0]}\")\n",
    "print(f\"Feature vector dimension: {features.shape[1]}\")\n",
    "print(f\"Item vector dimension: {items.shape[1]}\\n\")\n",
    "print(f\"First feature vector:\\n{features[0]}\\n\")\n",
    "print(f\"First item vector:\\n{items[0]}\")\n",
    "plt.matshow(np.cov(features))\n",
    "plt.title(\"Item covariance matrix\");"
   ]
  },
  {
   "cell_type": "code",
   "execution_count": null,
   "id": "broke-comparative",
   "metadata": {},
   "outputs": [],
   "source": [
    "# Compute the singular values of the generated dataset\n",
    "sigma_yx = features.T @ items\n",
    "U, s, V = np.linalg.svd(sigma_yx, full_matrices=True)"
   ]
  },
  {
   "cell_type": "markdown",
   "id": "nasty-thomson",
   "metadata": {
    "deletable": false,
    "editable": false,
    "nbgrader": {
     "cell_type": "markdown",
     "checksum": "00ed5c43a8d4aa8ded94063d360c8e93",
     "grade": false,
     "grade_id": "cell-3d8807025aa85b3f",
     "locked": true,
     "schema_version": 3,
     "solution": false,
     "task": false
    }
   },
   "source": [
    "#### 2.0 b) PyTorch example for a feedforward neural network\n",
    "\n",
    "Here, you can see an example of a feedforward neural network defined in PyTorch and how it can be trained on the data we generated in the previous section. The important steps shown below are:\n",
    "\n",
    "1. Define a neural network architecture (here a single hidden layer with ReLU activation function). In PyTorch, this is done by inheriting from the [`nn.Module`](https://pytorch.org/docs/stable/generated/torch.nn.Module.html) class and implementing the `forward` method, which should generate the network output for a given input."
   ]
  },
  {
   "cell_type": "code",
   "execution_count": 145,
   "id": "empirical-turkey",
   "metadata": {
    "deletable": false,
    "editable": false,
    "nbgrader": {
     "cell_type": "code",
     "checksum": "afcda5975d43e317f725108384b1925d",
     "grade": false,
     "grade_id": "cell-8bc195cc22795f86",
     "locked": true,
     "schema_version": 3,
     "solution": false,
     "task": false
    }
   },
   "outputs": [],
   "source": [
    "class ExampleNetwork(nn.Module):\n",
    "    \"\"\"\n",
    "    This is a deep neural network in PyTorch. In this case with a single hidden layer\n",
    "    with ReLU activation function.\n",
    "    \"\"\"\n",
    "    def __init__(self, input_dim, output_dim):\n",
    "        \"\"\"\n",
    "        This is the class constructor. It is called when you intantiate an instance of\n",
    "        this class.\n",
    "        \n",
    "        Parameters\n",
    "        ----------\n",
    "        input_dim : float\n",
    "            Dimension of the network input\n",
    "        output_dim : float\n",
    "            Dimension of the network output\n",
    "        \n",
    "        Example\n",
    "        -------\n",
    "        >>> network_instance = ExampleNetwork()\n",
    "        \"\"\"\n",
    "        \n",
    "        # Call the constructor (`__init__`) of the parent class (nn.Module)\n",
    "        super().__init__()\n",
    "\n",
    "        # Define a dictionary that collects the different layers.\n",
    "        # Afterwards, this dictionary provides the input to the nn.Sequential model\n",
    "        layers = OrderedDict()\n",
    "        layers[\"input_to_hidden\"] = nn.Linear(input_dim, 64, bias=False)\n",
    "        layers[\"input_to_hidden_activation\"] = nn.ReLU()\n",
    "        layers[\"hidden_to_output\"] = nn.Linear(64, output_dim, bias=False)\n",
    "        self.model = nn.Sequential(layers)\n",
    "        \n",
    "    def forward(self, input_tensor):\n",
    "        \"\"\"\n",
    "        This method implements the forward path of the neural network. Every PyTorch\n",
    "        network that inherits from `nn.Module` has to define this function.\n",
    "        \n",
    "        Parameters\n",
    "        ----------\n",
    "        input_tensor : torch.tensor\n",
    "            The input to the network\n",
    "            \n",
    "        Returns\n",
    "        -------\n",
    "        torch.tensor\n",
    "            The output of the network\n",
    "        \"\"\"\n",
    "        \n",
    "        # Propagate the input through the linear network\n",
    "        return self.model(input_tensor.float())"
   ]
  },
  {
   "cell_type": "markdown",
   "id": "acute-feelings",
   "metadata": {
    "deletable": false,
    "editable": false,
    "nbgrader": {
     "cell_type": "markdown",
     "checksum": "1510431e83ba861f2eeaf10610674de2",
     "grade": false,
     "grade_id": "cell-304d3a49a540eb1c",
     "locked": true,
     "schema_version": 3,
     "solution": false,
     "task": false
    }
   },
   "source": [
    "2. Create a network instance, an optimizer object (here we use stochastic gradient descent ([`torch.optim.SGD`](https://pytorch.org/docs/stable/optim.html#torch.optim.SGD))) and a loss function (here we use mean squared error loss ([`nn.MSELoss`](https://pytorch.org/docs/stable/generated/torch.nn.MSELoss.html))."
   ]
  },
  {
   "cell_type": "code",
   "execution_count": 146,
   "id": "artistic-manhattan",
   "metadata": {
    "deletable": false,
    "editable": false,
    "nbgrader": {
     "cell_type": "code",
     "checksum": "7a574976cd1434f3dbfc4523704f82d3",
     "grade": false,
     "grade_id": "cell-9913a70682f53871",
     "locked": true,
     "schema_version": 3,
     "solution": false,
     "task": false
    }
   },
   "outputs": [
    {
     "name": "stdout",
     "output_type": "stream",
     "text": [
      "The Network Architecture:\n",
      "\n",
      "ExampleNetwork(\n",
      "  (model): Sequential(\n",
      "    (input_to_hidden): Linear(in_features=64, out_features=64, bias=False)\n",
      "    (input_to_hidden_activation): ReLU()\n",
      "    (hidden_to_output): Linear(in_features=64, out_features=100, bias=False)\n",
      "  )\n",
      ")\n"
     ]
    }
   ],
   "source": [
    "input_dim = items.shape[1]\n",
    "output_dim = features.shape[1]\n",
    "\n",
    "learning_rate = 0.5\n",
    "network_instance = ExampleNetwork(input_dim, output_dim)\n",
    "sgd_optimizer = torch.optim.SGD(network_instance.parameters(), lr=learning_rate)\n",
    "\n",
    "mse_loss = nn.MSELoss()\n",
    "\n",
    "print(\"The Network Architecture:\\n\")\n",
    "print(network_instance)"
   ]
  },
  {
   "cell_type": "markdown",
   "id": "analyzed-inspection",
   "metadata": {
    "deletable": false,
    "editable": false,
    "nbgrader": {
     "cell_type": "markdown",
     "checksum": "c499fe5e0dff7a17fce00b8f1f7bd3af",
     "grade": false,
     "grade_id": "cell-26eaca3f8838d0fd",
     "locked": true,
     "schema_version": 3,
     "solution": false,
     "task": false
    }
   },
   "source": [
    "3. Perform a forward pass of the network to get predictions and calculate the loss. To perform the forward pass, the network instance has to be called directly with `network_instance()`. This will call the `nn.Module.__call__` method, which will use your `ExampleNetwork.forward` method to calculate the forward pass and will add some PyTorch magic that will compute the gradients for you.\n",
    "4. Reset any gradients that might have been stored before to $0$ and perform a backward pass to calculate the new gradients based on your last forward pass. Finally, perform one SGD optimization step to update your network parameters."
   ]
  },
  {
   "cell_type": "code",
   "execution_count": 147,
   "id": "representative-reading",
   "metadata": {
    "deletable": false,
    "editable": false,
    "nbgrader": {
     "cell_type": "code",
     "checksum": "da1bced62e53f6758c74bd3f90749f81",
     "grade": false,
     "grade_id": "cell-1c0080ecff5b4873",
     "locked": true,
     "schema_version": 3,
     "solution": false,
     "task": false
    }
   },
   "outputs": [
    {
     "name": "stdout",
     "output_type": "stream",
     "text": [
      "The MSE Loss for the 1st data point is 0.996\n",
      "Gradients input to hidden weights after reset: None\n",
      "Gradient sum input to hidden weights after backward pass: -0.03413562476634979\n"
     ]
    }
   ],
   "source": [
    "### 3.\n",
    "# Get the first feature and target from your dataset\n",
    "input_tensor = torch.tensor(items[0])\n",
    "y_true = torch.tensor(features[0]).float()\n",
    "\n",
    "# Perform a forward pass through the network\n",
    "y_hat = network_instance(input_tensor)\n",
    "\n",
    "# Calculate the loss for the first data point\n",
    "loss = mse_loss(y_hat, y_true)\n",
    "print(\"The MSE Loss for the 1st data point is {:.3f}\".format(loss)) \n",
    "\n",
    "### 4.\n",
    "# Reset gradients\n",
    "network_instance.zero_grad()\n",
    "gradient_sum_before = network_instance.model.input_to_hidden.weight.grad\n",
    "print(f\"Gradients input to hidden weights after reset: {gradient_sum_before}\")\n",
    "\n",
    "# Compute new gradients by performing a backword pass\n",
    "loss.backward()\n",
    "gradient_sum_after = network_instance.model.input_to_hidden.weight.grad.sum()\n",
    "print(f\"Gradient sum input to hidden weights after backward pass: {gradient_sum_after}\")\n",
    "\n",
    "# Update the weights using the SGD optimizer\n",
    "sgd_optimizer.step()"
   ]
  },
  {
   "cell_type": "markdown",
   "id": "outside-heaven",
   "metadata": {
    "deletable": false,
    "editable": false,
    "nbgrader": {
     "cell_type": "markdown",
     "checksum": "4873c66baa89cd97806809cd80b73a99",
     "grade": false,
     "grade_id": "cell-2dae8cdffddd8564",
     "locked": true,
     "schema_version": 3,
     "solution": false,
     "task": false
    }
   },
   "source": [
    "### 2.1: Implement a variable depth deep linear network (1 point)\n",
    "Code a variable depth deep linear network class that takes as an input a list of hidden units for each layer (e.g. `hidden_units=[16, 32, 32, 16]`). Use the `DeepLinearNetwork` class skeleton defined below. In the `### YOUR CODE HERE` section, loop over the hidden layers in the network to define the full network architecture (use `nn.Linear` as already done for the first and last layers of the network)."
   ]
  },
  {
   "cell_type": "code",
   "execution_count": 45,
   "id": "exotic-jaguar",
   "metadata": {
    "deletable": false,
    "nbgrader": {
     "cell_type": "code",
     "checksum": "9d0f16e906844780f6cdfec806efa1c7",
     "grade": false,
     "grade_id": "cell-e9132021e073cae2",
     "locked": false,
     "schema_version": 3,
     "solution": true,
     "task": false
    }
   },
   "outputs": [],
   "source": [
    "class DeepLinearNetwork(nn.Module):\n",
    "    \"\"\"\n",
    "    A deep liner neural network with a variable number of hidden layers\n",
    "    \"\"\"\n",
    "    def __init__(self, input_dim=64, output_dim=100, hidden_units=[64]):\n",
    "        \"\"\"\n",
    "        This is the class constructor. It is called when you intantiate an instance of\n",
    "        this class.\n",
    "        \n",
    "        Parameters\n",
    "        ----------\n",
    "        input_dim : float\n",
    "            Dimension of the network input\n",
    "        output_dim : float\n",
    "            Dimension of the network output\n",
    "        \"\"\"\n",
    "            \n",
    "        # Call the class constructor (__init__) of the parent class (nn.Module)\n",
    "        super().__init__()\n",
    "        \n",
    "        # Define a dictionary that collects the different layers\n",
    "        # This dictionary will provide the input to the nn.Sequential model\n",
    "        layers = OrderedDict()\n",
    "        layers[\"input_to_hidden\"] = nn.Linear(\n",
    "            input_dim, hidden_units[0], bias=False\n",
    "        )\n",
    "        \n",
    "        for i in range(len(hidden_units) - 1):\n",
    "            layer_name = \"hidden_layer\" + str(i)\n",
    "            layers[layer_name] = nn.Linear(hidden_units[i], hidden_units[i+1], bias=False)\n",
    "\n",
    "        layers[\"hidden_to_output\"] = nn.Linear(\n",
    "            hidden_units[-1], output_dim, bias=False\n",
    "        )\n",
    "        self.model = nn.Sequential(layers)\n",
    "        \n",
    "    def forward(self, input_tensor):\n",
    "        \"\"\"\n",
    "        This method implements the forward path of the neural network. Every PyTorch\n",
    "        network that inherits from `nn.Module` has to define this function.\n",
    "        \n",
    "        Parameters\n",
    "        ----------\n",
    "        input_tensor : torch.tensor\n",
    "            The input to the network\n",
    "            \n",
    "        Returns\n",
    "        -------\n",
    "        torch.tensor\n",
    "            The output of the network\n",
    "        \"\"\"\n",
    "        \n",
    "        # Propagate the input through the linear network\n",
    "        return self.model(input_tensor.float())"
   ]
  },
  {
   "cell_type": "code",
   "execution_count": 5,
   "id": "moved-airfare",
   "metadata": {
    "deletable": false,
    "editable": false,
    "nbgrader": {
     "cell_type": "code",
     "checksum": "0844fa487f5ddd6b3da8557b7c2c432d",
     "grade": true,
     "grade_id": "cell-050ae1339be2e5ae",
     "locked": true,
     "points": 1,
     "schema_version": 3,
     "solution": false,
     "task": false
    }
   },
   "outputs": [],
   "source": [
    "\"\"\" Test that the class is defined as instructed \"\"\"\n",
    "\n",
    "assert_var_defined(\"DeepLinearNetwork\", func=True)\n"
   ]
  },
  {
   "cell_type": "markdown",
   "id": "cross-product",
   "metadata": {
    "deletable": false,
    "editable": false,
    "nbgrader": {
     "cell_type": "markdown",
     "checksum": "5a5c5491e524dd80d82b9c94b2224be4",
     "grade": false,
     "grade_id": "cell-8f10cb1c4916e6b3",
     "locked": true,
     "schema_version": 3,
     "solution": false,
     "task": false
    }
   },
   "source": [
    "### 2.2: Define the online gradient descent training loop (3 points)\n",
    "Complement the learning loop defined in the `train_network` function below. This will require multiple small steps:\n",
    "\n",
    "1. Shuffle the data ordering at the beginning of each training epoch.\n",
    "2. Perform the forward pass at each iteration for a selected input-target pair.\n",
    "3. Calculate the corresponding loss using the mean squared error (MSE) loss.\n",
    "4. Reset the parameter gradients, perform a backwards pass to calculate the current gradients \\& update the parameters with the help of an optimizer object."
   ]
  },
  {
   "cell_type": "code",
   "execution_count": 6,
   "id": "asian-fiction",
   "metadata": {
    "deletable": false,
    "nbgrader": {
     "cell_type": "code",
     "checksum": "d068cc55a66fd5c8d46bc61e982ee9b2",
     "grade": false,
     "grade_id": "cell-ab40a468bf4b638a",
     "locked": false,
     "schema_version": 3,
     "solution": true,
     "task": false
    }
   },
   "outputs": [],
   "source": [
    "def train_network(network, loss_func, optimizer, num_epochs, inputs, targets):\n",
    "    \"\"\"\n",
    "    Train a neural network by running the training loop\n",
    "\n",
    "    Parameters\n",
    "    ----------\n",
    "    network : nn.Module\n",
    "        An instance of a PyTorch neural network class, that inherits from `nn.Module`,\n",
    "        e.g. an instance of the `DeepLinearNetwork` class.\n",
    "    loss_func : nn._Loss\n",
    "        A PyTorch loss criterion, e.g. an instance of `nn.MLELoss`, which measures the\n",
    "        mean squared error (MSE) between each element of two vectors.\n",
    "    optimizer : torch.optim.Optimizer\n",
    "        PyTorch optimizer object, e.g. an instance of `torch.optim.SGE`, which implements\n",
    "        stochastic gradien descent (SGD)\n",
    "    num_epochs : int\n",
    "        Number of training loops over the entire dataset\n",
    "    inputs : numpy.ndarray\n",
    "        Inputs used for training the network\n",
    "    targets : numpy.ndarray\n",
    "        Output targets for computing the training loss during training\n",
    "    \"\"\"\n",
    "    loss_log = []\n",
    "    log_singular_vals = []\n",
    "    num_points = targets.shape[0]\n",
    "    indices = np.arange(num_points) # indices of data, used for shuffling\n",
    "\n",
    "    for epoch in range(num_epochs):\n",
    "        epoch_loss = 0\n",
    "        \n",
    "        # ### 1. Shuffle the data ordering\n",
    "        np.random.shuffle(indices)\n",
    "        inputs = inputs[indices]\n",
    "        targets = targets[indices]\n",
    "        \n",
    "        # Loop over all examples in an Online SGD Loop\n",
    "        for t in range(num_points):\n",
    "            # Extract the current training datapoint and transform it into a Torch Tensor\n",
    "            input_tensor = torch.tensor(inputs[t])\n",
    "            y_true = torch.tensor(targets[t]).float()\n",
    "                \n",
    "            ### 2. Perform the forward pass, which computes the prediction for the single\n",
    "            ###    datapoint y^hat\n",
    "            y_hat = network(input_tensor)\n",
    "            \n",
    "            ### 3. Compute the corresponding loss\n",
    "            loss = loss_func(y_hat, y_true)\n",
    "                     \n",
    "            # 4. Clear the gradients, Perform the backward pass, and SGD update\n",
    "            network.zero_grad()\n",
    "            loss.backward()\n",
    "            optimizer.step()\n",
    "            \n",
    "            # Update the epoch loss tracker\n",
    "            epoch_loss += loss.item()\n",
    "        \n",
    "        # Log the mean epoch loss & calculate the SVD\n",
    "        loss_log.append(epoch_loss/num_points)\n",
    "        # Note that `inputs` is a unit matrix\n",
    "        y_hat_full = network(torch.tensor(inputs)).detach().numpy()\n",
    "\n",
    "        U, s, V = np.linalg.svd(y_hat_full.T, full_matrices=True)\n",
    "        \n",
    "        log_singular_vals.append(s)\n",
    "\n",
    "    return loss_log, np.array(log_singular_vals)"
   ]
  },
  {
   "cell_type": "code",
   "execution_count": 7,
   "id": "digital-cable",
   "metadata": {
    "deletable": false,
    "editable": false,
    "nbgrader": {
     "cell_type": "code",
     "checksum": "abd11abd1bb60cc911f0829f447bfa29",
     "grade": true,
     "grade_id": "cell-b7d568000b82a79a",
     "locked": true,
     "points": 3,
     "schema_version": 3,
     "solution": false,
     "task": false
    }
   },
   "outputs": [],
   "source": [
    "\"\"\" Test that the function is defined as instructed \"\"\"\n",
    "\n",
    "assert_var_defined(\"train_network\", func=True)\n"
   ]
  },
  {
   "cell_type": "markdown",
   "id": "increased-fancy",
   "metadata": {
    "deletable": false,
    "editable": false,
    "nbgrader": {
     "cell_type": "markdown",
     "checksum": "fc08adc0ab1a3ba9269edf6d12969355",
     "grade": false,
     "grade_id": "cell-9a9e5fc4af6816d1",
     "locked": true,
     "points": 3,
     "schema_version": 3,
     "solution": false,
     "task": true
    }
   },
   "source": [
    "### 2.3 Generate a data set and train your deep linear network (3 points):\n",
    "Create a dataset by creating an instance of the `DiffuseTreeSampler` class and sampling from it. Afterwards, compute the SVD of $\\Sigma^{yx}$ and assert that $\\Sigma^x = \\mathbf{1}$. Then, train a deep linear network:\n",
    "\n",
    "1. Instantiate your `DeepLinearNetwork` with three hidden layers (`hidden_units=[64, 128, 128]`).\n",
    "2. Instantiate a stochastic gradient descent optimizer object with learning rate $\\eta = 0.5$.\n",
    "3. Define the mean squared error (MSE) loss function.\n",
    "4. Run the `train_network` loop for 200 epochs.\n",
    "\n",
    "After each epoch (loop over the entire dataset) compute the SVD of the covariance matrix $\\Sigma^{\\hat{y}x}$, which is (as in exercise 1) the product of the linear network weight matrices (since we have no input correlations). Note that in this case the product of weight matrices can be simply obtained by forward propagating a unit matrix through the network. Plot the evolution of the singular value modes over the course of the learning epochs as well as the static singular values of $\\Sigma^{yx}$.\n"
   ]
  },
  {
   "cell_type": "code",
   "execution_count": 46,
   "id": "killing-sustainability",
   "metadata": {
    "deletable": false,
    "nbgrader": {
     "cell_type": "code",
     "checksum": "3b5edfa02358c44603ef0903cf8e07af",
     "grade": true,
     "grade_id": "cell-aa2b73577e75eacd",
     "locked": false,
     "points": 0,
     "schema_version": 3,
     "solution": true,
     "task": false
    }
   },
   "outputs": [
    {
     "name": "stdout",
     "output_type": "stream",
     "text": [
      "Number of data samples: 64\n",
      "Feature vector dimension: 4\n",
      "Item vector dimension: 64\n",
      "\n",
      "First feature vector:\n",
      "[ 1 -1 -1 -1]\n",
      "\n",
      "First item vector:\n",
      "[1. 0. 0. 0. 0. 0. 0. 0. 0. 0. 0. 0. 0. 0. 0. 0. 0. 0. 0. 0. 0. 0. 0. 0.\n",
      " 0. 0. 0. 0. 0. 0. 0. 0. 0. 0. 0. 0. 0. 0. 0. 0. 0. 0. 0. 0. 0. 0. 0. 0.\n",
      " 0. 0. 0. 0. 0. 0. 0. 0. 0. 0. 0. 0. 0. 0. 0. 0.]\n"
     ]
    }
   ],
   "source": [
    "# Create the dataset by instantiating and sampling\n",
    "hierarchical_tree = DiffuseTreeSampler(feature_dim=4, tree_depth=3,\n",
    "                                       branching_factor=4, sample_epsilon=0.05)\n",
    "targets, inputs = hierarchical_tree.sample_data()\n",
    "\n",
    "assert targets.shape[0] == inputs.shape[0]\n",
    "print(f\"Number of data samples: {targets.shape[0]}\")\n",
    "print(f\"Feature vector dimension: {targets.shape[1]}\")\n",
    "print(f\"Item vector dimension: {inputs.shape[1]}\\n\")\n",
    "print(f\"First feature vector:\\n{targets[0]}\\n\")\n",
    "print(f\"First item vector:\\n{inputs[0]}\")\n",
    "\n",
    "sigma_yx = inputs.T @ targets\n",
    "U, S, V = np.linalg.svd(sigma_yx)\n",
    "sigma_x = inputs.T @ inputs\n",
    "\n",
    "assert np.array_equal(inputs.T @ inputs, np.identity(inputs.shape[0]))"
   ]
  },
  {
   "cell_type": "code",
   "execution_count": 47,
   "id": "dfa5b33c",
   "metadata": {},
   "outputs": [
    {
     "name": "stdout",
     "output_type": "stream",
     "text": [
      "The Network Architecture:\n",
      "\n",
      "DeepLinearNetwork(\n",
      "  (model): Sequential(\n",
      "    (input_to_hidden): Linear(in_features=64, out_features=64, bias=False)\n",
      "    (hidden_layer0): Linear(in_features=64, out_features=128, bias=False)\n",
      "    (hidden_layer1): Linear(in_features=128, out_features=128, bias=False)\n",
      "    (hidden_to_output): Linear(in_features=128, out_features=4, bias=False)\n",
      "  )\n",
      ")\n"
     ]
    }
   ],
   "source": [
    "# Train network\n",
    "input_dim = inputs.shape[1]\n",
    "output_dim = targets.shape[1]\n",
    "hidden_units = [64, 128, 128]\n",
    "learning_rate = 0.1\n",
    "num_epochs = 200\n",
    "\n",
    "network_instance = DeepLinearNetwork(input_dim, output_dim, hidden_units=hidden_units)\n",
    "sgd_optimizer = torch.optim.SGD(network_instance.parameters(), lr=learning_rate)\n",
    "mse_loss = nn.MSELoss()\n",
    "\n",
    "print(\"The Network Architecture:\\n\")\n",
    "print(network_instance)\n",
    "\n",
    "loss_log, sval_log = train_network(network=network_instance, loss_func=mse_loss, optimizer=sgd_optimizer, num_epochs=num_epochs, inputs=inputs, targets=targets)"
   ]
  },
  {
   "cell_type": "code",
   "execution_count": 48,
   "id": "d8fef559",
   "metadata": {},
   "outputs": [
    {
     "data": {
      "image/png": "[encoded data removed]",
      "text/plain": [
       "<Figure size 640x480 with 1 Axes>"
      ]
     },
     "metadata": {},
     "output_type": "display_data"
    }
   ],
   "source": [
    "# Plot singular values \n",
    "epoch_axis = np.arange(0, num_epochs, 1)\n",
    "num_modes = len(S)\n",
    "for alpha in range(num_modes):\n",
    "    plt.plot(epoch_axis, sval_log[:,alpha], color='red', alpha=0.5)\n",
    "\n",
    "sval_static = np.tile(S, (num_epochs, 1))\n",
    "plt.plot(epoch_axis, sval_static, color='blue', alpha=0.5)\n",
    "\n",
    "plt.plot([], [], color='red', label='linear network')\n",
    "plt.plot([], [], color='blue', label='$s_{alpha}$')\n",
    "\n",
    "plt.ylabel('Value')\n",
    "plt.xlabel('Epochs')\n",
    "plt.legend()\n",
    "plt.show()"
   ]
  },
  {
   "cell_type": "markdown",
   "id": "entertaining-portsmouth",
   "metadata": {
    "deletable": false,
    "editable": false,
    "nbgrader": {
     "cell_type": "markdown",
     "checksum": "bfaa42c268908d4e53dad44ea2ee3704",
     "grade": false,
     "grade_id": "cell-fb494155de2fe7f4",
     "locked": true,
     "points": 3,
     "schema_version": 3,
     "solution": false,
     "task": true
    }
   },
   "source": [
    "### 2.4 Train a deep non-linear network (3 points)\n",
    "Do the results hold up for both deep linear and non-linear networks? Implement a ReLU activation after every linear layer and repeat the steps in exercise 2.3. Which singular values converge first?"
   ]
  },
  {
   "cell_type": "code",
   "execution_count": 39,
   "id": "fabulous-appointment",
   "metadata": {
    "deletable": false,
    "nbgrader": {
     "cell_type": "code",
     "checksum": "b964a9549da443df579876857f3c12e1",
     "grade": true,
     "grade_id": "cell-46c47df521076fc9",
     "locked": false,
     "points": 0,
     "schema_version": 3,
     "solution": true,
     "task": false
    }
   },
   "outputs": [],
   "source": [
    "class DeepNonLinearNetwork(nn.Module):\n",
    "    def __init__(self, input_dim=64, output_dim=100, hidden_units=[64]):\n",
    "        \"\"\"\n",
    "        This is the class constructor. It is called when you intantiate an instance of\n",
    "        this class.\n",
    "        \n",
    "        Parameters\n",
    "        ----------\n",
    "        input_dim : float\n",
    "            Dimension of the network input\n",
    "        output_dim : float\n",
    "            Dimension of the network output\n",
    "        \"\"\"\n",
    "            \n",
    "        # Call the class constructor (__init__) of the parent class (nn.Module)\n",
    "        super().__init__()\n",
    "        \n",
    "        # Define a dictionary that collects the different layers\n",
    "        # This dictionary will provide the input to the nn.Sequential model\n",
    "        layers = OrderedDict()\n",
    "        layers[\"input_to_hidden\"] = nn.Linear(\n",
    "            input_dim, hidden_units[0], bias=False\n",
    "        )\n",
    "        layers[\"input_to_hidden_activation\"] = nn.ReLU()\n",
    "        \n",
    "        for i in range(len(hidden_units) - 1):\n",
    "            layer_name = \"hidden_layer\" + str(i)\n",
    "            layers[layer_name] = nn.Linear(hidden_units[i], hidden_units[i+1], bias=False)\n",
    "            activation_layer_name = layer_name + \"_activation\"\n",
    "            layers[activation_layer_name] = nn.ReLU()\n",
    "\n",
    "        layers[\"hidden_to_output\"] = nn.Linear(\n",
    "            hidden_units[-1], output_dim, bias=False\n",
    "        )\n",
    "        layers[\"hidden_to_output_activation\"] = nn.ReLU()\n",
    "        self.model = nn.Sequential(layers)\n",
    "        \n",
    "    def forward(self, input_tensor):\n",
    "        \"\"\"\n",
    "        This method implements the forward path of the neural network. Every PyTorch\n",
    "        network that inherits from `nn.Module` has to define this function.\n",
    "        \n",
    "        Parameters\n",
    "        ----------\n",
    "        input_tensor : torch.tensor\n",
    "            The input to the network\n",
    "            \n",
    "        Returns\n",
    "        -------\n",
    "        torch.tensor\n",
    "            The output of the network\n",
    "        \"\"\"\n",
    "        \n",
    "        # Propagate the input through the linear network\n",
    "        return self.model(input_tensor.float())"
   ]
  },
  {
   "cell_type": "code",
   "execution_count": 49,
   "id": "80130c1c",
   "metadata": {},
   "outputs": [
    {
     "name": "stdout",
     "output_type": "stream",
     "text": [
      "The Network Architecture:\n",
      "\n",
      "DeepLinearNetwork(\n",
      "  (model): Sequential(\n",
      "    (input_to_hidden): Linear(in_features=64, out_features=64, bias=False)\n",
      "    (hidden_layer0): Linear(in_features=64, out_features=128, bias=False)\n",
      "    (hidden_layer1): Linear(in_features=128, out_features=128, bias=False)\n",
      "    (hidden_to_output): Linear(in_features=128, out_features=4, bias=False)\n",
      "  )\n",
      ")\n"
     ]
    }
   ],
   "source": [
    "# Train network on same parameters defined before\n",
    "nonlinear_network = DeepLinearNetwork(input_dim, output_dim, hidden_units=hidden_units)\n",
    "sgd_optimizer = torch.optim.SGD(nonlinear_network.parameters(), lr=learning_rate)\n",
    "mse_loss = nn.MSELoss()\n",
    "\n",
    "print(\"The Network Architecture:\\n\")\n",
    "print(nonlinear_network)\n",
    "\n",
    "loss_log, sval_log = train_network(network=nonlinear_network, loss_func=mse_loss, optimizer=sgd_optimizer, num_epochs=num_epochs, inputs=inputs, targets=targets)"
   ]
  },
  {
   "cell_type": "code",
   "execution_count": 50,
   "id": "bb09274c",
   "metadata": {},
   "outputs": [
    {
     "data": {
      "image/png": "[encoded data removed]",
      "text/plain": [
       "<Figure size 640x480 with 1 Axes>"
      ]
     },
     "metadata": {},
     "output_type": "display_data"
    }
   ],
   "source": [
    "# Plot singular values \n",
    "epoch_axis = np.arange(0, num_epochs, 1)\n",
    "num_modes = len(S)\n",
    "for alpha in range(num_modes):\n",
    "    plt.plot(epoch_axis, sval_log[:,alpha], color='red', alpha=0.5)\n",
    "\n",
    "sval_static = np.tile(S, (num_epochs, 1))\n",
    "plt.plot(epoch_axis, sval_static, color='blue', alpha=0.5)\n",
    "\n",
    "plt.plot([], [], color='red', label='linear network')\n",
    "plt.plot([], [], color='blue', label='$s_{alpha}$')\n",
    "\n",
    "plt.ylabel('Value')\n",
    "plt.xlabel('Epochs')\n",
    "plt.legend()\n",
    "plt.show()"
   ]
  },
  {
   "cell_type": "markdown",
   "id": "6a7a1d15",
   "metadata": {},
   "source": [
    "It appears that the singular values corresponding to the first and second modes converge before the third and fourth modes."
   ]
  }
 ],
 "metadata": {
  "kernelspec": {
   "display_name": "Python 3 (ipykernel)",
   "language": "python",
   "name": "python3"
  },
  "language_info": {
   "codemirror_mode": {
    "name": "ipython",
    "version": 3
   },
   "file_extension": ".py",
   "mimetype": "text/x-python",
   "name": "python",
   "nbconvert_exporter": "python",
   "pygments_lexer": "ipython3",
   "version": "3.12.3"
  },
  "toc": {
   "base_numbering": 1,
   "nav_menu": {},
   "number_sections": false,
   "sideBar": true,
   "skip_h1_title": true,
   "title_cell": "Table of contents",
   "title_sidebar": "Contents",
   "toc_cell": true,
   "toc_position": {
    "height": "calc(100% - 180px)",
    "left": "10px",
    "top": "150px",
    "width": "217.54px"
   },
   "toc_section_display": true,
   "toc_window_display": true
  }
 },
 "nbformat": 4,
 "nbformat_minor": 5
}
