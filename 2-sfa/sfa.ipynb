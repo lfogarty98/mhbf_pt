{
 "cells": [
  {
   "cell_type": "markdown",
   "id": "e46ee4cd",
   "metadata": {},
   "source": [
    "<div>\n",
    "  <img style=\"float: left;\"  width=\"140\" src=\" data:image/png;base64,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\">\n",
    "</div>\n",
    " \n",
    "<h1 id=\"course-title-heading\">\n",
    "    <div style=\"text-align: right\">\n",
    "        Models of Higher Brain Functions\n",
    "        <br>Computer Course\n",
    "        <br>\n",
    "    </div>\n",
    "</h1>\n",
    "    \n",
    "---\n",
    "<div style=\"text-align: left; float: left\">\n",
    "    Lecturer: Prof. Dr. Henning Sprekeler\n",
    "</div>\n",
    "\n",
    "<div style=\"text-align: right\">\n",
    "    Assistant: Felix Lundt\n",
    "    <br>(lundt@tu-berlin.de)\n",
    "</div>\n",
    "\n"
   ]
  },
  {
   "cell_type": "markdown",
   "id": "bf6b98e0",
   "metadata": {},
   "source": [
    "## General exercise instructions\n",
    "These exercises should be completed entirely in this Jupyter Notebook (comprising source code, discussion and interpretation). Submission should be done through the Moodle interface and should consist only of this notebook (**a single `.ipynb` file**). This Jupyter Notebook was provided inside a `.zip` file, alongside additional files. Do not change the relative paths of these files when working on the assignment (meaning that e.g. `./helper.py` should always be in the same directory as this notebook).\n",
    "\n",
    "Submission deadline is the start of the next lectue (**10:15 am on Fridays**).\n",
    "\n",
    "Before you turn this problem in, make sure everything runs as expected. First, **restart the kernel** (in the menubar, select Kernel$\\rightarrow$Restart) and then **run all cells** (in the menubar, select Cell$\\rightarrow$Run All).\n",
    "\n",
    "Some of the exercises will be automatically graded. Make sure that you:\n",
    "1. Fill in any place that says `YOUR CODE HERE` or \"YOUR ANSWER HERE\"\n",
    "2. Remove all `raise NotImplementedError` lines once you inserted your solution\n",
    "3. Don't use variable names starting with underscore (e.g. `_myvar`) in your code, which could interfere with the automatic grading system.\n",
    "\n",
    "Before you start, please fill in below your names and the name of your group as shown on Moodle. Example:\n",
    "```\n",
    "NAMES = [\"Martina Musterfrau\", \"John Smith\"]\n",
    "GROUP = \"A\"\n",
    "```\n",
    "\n",
    "If you have any questions about the exercises, please ask them **on the Moodle forum** of the course."
   ]
  },
  {
   "cell_type": "code",
   "execution_count": 2,
   "id": "04d164b4",
   "metadata": {},
   "outputs": [],
   "source": [
    "NAMES = [\"Liam Fogarty\", \"Ghadi El Hasbani\"]\n",
    "GROUP = \"G\""
   ]
  },
  {
   "cell_type": "code",
   "execution_count": 3,
   "id": "3b3ef0eb",
   "metadata": {},
   "outputs": [],
   "source": [
    "# These are a few tests to make sure that your installed Python software is not too old\n",
    "import sys\n",
    "assert sys.version_info.major >= 3, \"Your Python version is too old, please update it.\"\n",
    "\n",
    "import IPython\n",
    "assert IPython.version_info[0] >= 3, \"Your IPython version is too old, please update it.\""
   ]
  },
  {
   "cell_type": "markdown",
   "id": "05060a8a",
   "metadata": {},
   "source": [
    "---"
   ]
  },
  {
   "cell_type": "markdown",
   "id": "physical-insert",
   "metadata": {
    "deletable": false,
    "editable": false,
    "nbgrader": {
     "cell_type": "markdown",
     "checksum": "213e056653eb4a6fc20cc5c58546f861",
     "grade": false,
     "grade_id": "cell-3e5e5ac2b626ef1d",
     "locked": true,
     "schema_version": 3,
     "solution": false,
     "task": false
    }
   },
   "source": [
    "# Week 2: Slow Feature Analysis"
   ]
  },
  {
   "cell_type": "markdown",
   "id": "occasional-champion",
   "metadata": {
    "deletable": false,
    "editable": false,
    "nbgrader": {
     "cell_type": "markdown",
     "checksum": "c7d829e86d62c4cff7a558ee271166f0",
     "grade": false,
     "grade_id": "cell-17c964f5439c1309",
     "locked": true,
     "schema_version": 3,
     "solution": false,
     "task": false
    },
    "toc": true
   },
   "source": [
    "<h2>Table of Contents<span class=\"tocSkip\"></span></h2>\n",
    "<div class=\"toc\"><ul class=\"toc-item\"><li><span><a href=\"#Exercise-1:-Slow-Feature-Analysis-on-two-independent-signals-(10-points)\" data-toc-modified-id=\"Exercise-1:-Slow-Feature-Analysis-on-two-independent-signals-(10-points)-1\">Exercise 1: Slow Feature Analysis on two independent signals (10 points)</a></span><ul class=\"toc-item\"><li><span><a href=\"#1.1:-Define-a-function-which-generates-&quot;natural&quot;-signals-(1-point)\" data-toc-modified-id=\"1.1:-Define-a-function-which-generates-&quot;natural&quot;-signals-(1-point)-1.1\">1.1: Define a function which generates \"natural\" signals (1 point)</a></span></li><li><span><a href=\"#1.2-Study-the-effect-of-$\\epsilon$-in-your-function\" data-toc-modified-id=\"1.2-Study-the-effect-of-$\\epsilon$-in-your-function-1.2\">1.2 Study the effect of $\\epsilon$ in your function</a></span><ul class=\"toc-item\"><li><span><a href=\"#1.2-a)-Generate-and-plot-two-singals-(1-point)\" data-toc-modified-id=\"1.2-a)-Generate-and-plot-two-singals-(1-point)-1.2.1\">1.2 a) Generate and plot two singals (1 point)</a></span></li><li><span><a href=\"#1.2-b)-Discuss-your-results-(1-point)\" data-toc-modified-id=\"1.2-b)-Discuss-your-results-(1-point)-1.2.2\">1.2 b) Discuss your results (1 point)</a></span></li></ul></li><li><span><a href=\"#1.3-Perform-Slow-Feature-Analysis-(SFA)\" data-toc-modified-id=\"1.3-Perform-Slow-Feature-Analysis-(SFA)-1.3\">1.3 Perform Slow Feature Analysis (SFA)</a></span><ul class=\"toc-item\"><li><span><a href=\"#1.3-a)-Compute-the-covariance-matrix-(0.5-points)\" data-toc-modified-id=\"1.3-a)-Compute-the-covariance-matrix-(0.5-points)-1.3.1\">1.3 a) Compute the covariance matrix (0.5 points)</a></span></li><li><span><a href=\"#1.3-b)-Compute-the-matrix-of-second-moments-of-the-temporal-derivatives-(0.5-points)\" data-toc-modified-id=\"1.3-b)-Compute-the-matrix-of-second-moments-of-the-temporal-derivatives-(0.5-points)-1.3.2\">1.3 b) Compute the matrix of second moments of the temporal derivatives (0.5 points)</a></span></li><li><span><a href=\"#1.3-c)-Solve-the-Generalized-Eigenavlue-Problem-(1-point)\" data-toc-modified-id=\"1.3-c)-Solve-the-Generalized-Eigenavlue-Problem-(1-point)-1.3.3\">1.3 c) Solve the Generalized Eigenavlue Problem (1 point)</a></span></li><li><span><a href=\"#1.3-d)-Discuss-your-results-(2-points)\" data-toc-modified-id=\"1.3-d)-Discuss-your-results-(2-points)-1.3.4\">1.3 d) Discuss your results (2 points)</a></span></li></ul></li><li><span><a href=\"#1.4-Perform-SFA-on-singals-of-different-lengths\" data-toc-modified-id=\"1.4-Perform-SFA-on-singals-of-different-lengths-1.4\">1.4 Perform SFA on singals of different lengths</a></span><ul class=\"toc-item\"><li><span><a href=\"#1.4-a)-Perform-SFA-(1-point)\" data-toc-modified-id=\"1.4-a)-Perform-SFA-(1-point)-1.4.1\">1.4 a) Perform SFA (1 point)</a></span></li><li><span><a href=\"#1.4-b)-Discuss-your-results-(1-point)\" data-toc-modified-id=\"1.4-b)-Discuss-your-results-(1-point)-1.4.2\">1.4 b) Discuss your results (1 point)</a></span></li></ul></li><li><span><a href=\"#1.5:-How-to-the-eigenvalue-depend-on-$\\tau$?-(1-point)\" data-toc-modified-id=\"1.5:-How-to-the-eigenvalue-depend-on-$\\tau$?-(1-point)-1.5\">1.5: How to the eigenvalue depend on $\\tau$? (1 point)</a></span></li></ul></li><li><span><a href=\"#Exercise-2:-SFA-on-a-high-dimensional-correlated-signal-(10-points)\" data-toc-modified-id=\"Exercise-2:-SFA-on-a-high-dimensional-correlated-signal-(10-points)-2\">Exercise 2: SFA on a high-dimensional correlated signal (10 points)</a></span><ul class=\"toc-item\"><li><span><a href=\"#2.1-Generate-a-1D-image-(0.5-points)\" data-toc-modified-id=\"2.1-Generate-a-1D-image-(0.5-points)-2.1\">2.1 Generate a 1D image (0.5 points)</a></span></li><li><span><a href=\"#2.2-Generate-sensory-experiences-(2-points)\" data-toc-modified-id=\"2.2-Generate-sensory-experiences-(2-points)-2.2\">2.2 Generate sensory experiences (2 points)</a></span></li><li><span><a href=\"#2.3-Perform-SFA-(2-points)\" data-toc-modified-id=\"2.3-Perform-SFA-(2-points)-2.3\">2.3 Perform SFA (2 points)</a></span></li><li><span><a href=\"#2.4-Plot-the-slowest-SFA-components\" data-toc-modified-id=\"2.4-Plot-the-slowest-SFA-components-2.4\">2.4 Plot the slowest SFA-components</a></span><ul class=\"toc-item\"><li><span><a href=\"#2.4-a)-Sort-the-eigenvectors-(1-point)\" data-toc-modified-id=\"2.4-a)-Sort-the-eigenvectors-(1-point)-2.4.1\">2.4 a) Sort the eigenvectors (1 point)</a></span></li><li><span><a href=\"#2.4-b)-Plot-the-eigenvectors-(0.5-points)\" data-toc-modified-id=\"2.4-b)-Plot-the-eigenvectors-(0.5-points)-2.4.2\">2.4 b) Plot the eigenvectors (0.5 points)</a></span></li><li><span><a href=\"#2.4-c)-Discuss-your-results-(2-points)\" data-toc-modified-id=\"2.4-c)-Discuss-your-results-(2-points)-2.4.3\">2.4 c) Discuss your results (2 points)</a></span></li></ul></li><li><span><a href=\"#2.5-Compute-the-SFA-features-of-the-original-signal\" data-toc-modified-id=\"2.5-Compute-the-SFA-features-of-the-original-signal-2.5\">2.5 Compute the SFA-features of the original signal</a></span><ul class=\"toc-item\"><li><span><a href=\"#2.5-a)-Project-the-signal-onto-the-new-SFA-basis-(1-point)\" data-toc-modified-id=\"2.5-a)-Project-the-signal-onto-the-new-SFA-basis-(1-point)-2.5.1\">2.5 a) Project the signal onto the new SFA-basis (1 point)</a></span></li><li><span><a href=\"#2.5-b)-Discuss-your-results-(1-point)\" data-toc-modified-id=\"2.5-b)-Discuss-your-results-(1-point)-2.5.2\">2.5 b) Discuss your results (1 point)</a></span></li></ul></li></ul></li></ul></div>"
   ]
  },
  {
   "cell_type": "code",
   "execution_count": 4,
   "id": "black-yesterday",
   "metadata": {
    "deletable": false,
    "editable": false,
    "nbgrader": {
     "cell_type": "code",
     "checksum": "6bb974fa83c72cda035e45d8f49d1af1",
     "grade": false,
     "grade_id": "cell-32c2fd525e031c99",
     "locked": true,
     "schema_version": 3,
     "solution": false,
     "task": false
    }
   },
   "outputs": [],
   "source": [
    "# Necessary imports for this exercise, you can't modify these\n",
    "import numpy as np\n",
    "import matplotlib.pyplot as plt\n",
    "# We need scipy for this exercise\n",
    "try:\n",
    "    import scipy.linalg\n",
    "except ModuleNotFoundError:\n",
    "    raise ModuleNotFoundError(\"Please install `scipy`, you need it for this exercise.\")\n",
    "\n",
    "# Import functions defined in the ./helpers.py file\n",
    "from helpers import assert_var_defined, gaussian_spectrum_1D"
   ]
  },
  {
   "cell_type": "code",
   "execution_count": 5,
   "id": "imported-hazard",
   "metadata": {},
   "outputs": [],
   "source": [
    "# You can add your additional package imports here\n",
    "\n",
    "# Create plots inline in the Jupyter notebook\n",
    "%matplotlib inline"
   ]
  },
  {
   "cell_type": "markdown",
   "id": "mechanical-input",
   "metadata": {
    "deletable": false,
    "editable": false,
    "nbgrader": {
     "cell_type": "markdown",
     "checksum": "c97a29a8969f30992e96b16be5d61cf3",
     "grade": false,
     "grade_id": "cell-90079e88aa731f16",
     "locked": true,
     "schema_version": 3,
     "solution": false,
     "task": false
    }
   },
   "source": [
    "## Exercise 1: Slow Feature Analysis on two independent signals (10 points)\n",
    "\n",
    "This will be the first exercise where we apply Slow Feature Analysis (SFA) to investigate signals. To begin with, we focus on linear SFA transformations on a 2-dimensional time-dependent signal."
   ]
  },
  {
   "cell_type": "markdown",
   "id": "informational-madison",
   "metadata": {
    "deletable": false,
    "editable": false,
    "nbgrader": {
     "cell_type": "markdown",
     "checksum": "ba249a202767c7933ce700ec9af29795",
     "grade": false,
     "grade_id": "cell-56c9ce56dc84bef0",
     "locked": true,
     "schema_version": 3,
     "solution": false,
     "task": false
    }
   },
   "source": [
    "### 1.1: Define a function which generates \"naturalistic\" signals (1 point)\n",
    "Have a look at the function `gaussian_spectrum_1D` which is defined in `helpers.py` and was already imported above. The function takes a white noise signal and applies a filter in frequency domain such that the filtered signal's power spectral density (PSD) corresponds to   $\\textrm{PSD}(k) \\sim \\exp(- \\frac{k^2}{2\\epsilon}  )$, where $k$ is the 1D wave vector of the Fourier space and $\\epsilon$ is the width of the Gaussian PSD.\n",
    "Complete the functionl `generate_signal` below such that it generates a random signal of length $T$, applies `gaussian_spectrum_1D` to it and then normalizes the signal to have zero mean and unit variance. The function should take $T$ and $\\epsilon$ as arguments."
   ]
  },
  {
   "cell_type": "code",
   "execution_count": 6,
   "id": "incorrect-prague",
   "metadata": {
    "deletable": false,
    "nbgrader": {
     "cell_type": "code",
     "checksum": "b3c65d67b3df3afc31540f1c30576de6",
     "grade": false,
     "grade_id": "cell-0147f5ed0d3ac5d6",
     "locked": false,
     "schema_version": 3,
     "solution": true,
     "task": false
    }
   },
   "outputs": [],
   "source": [
    "def generate_signal(T, epsilon):\n",
    "    \"\"\"\n",
    "    Generate a signal with power spectral density as defined above, normalized to have\n",
    "    zero mean and unit variance.\n",
    "\n",
    "    Parameters\n",
    "    ----------\n",
    "    T : int\n",
    "        Length of the signal\n",
    "    epsilon : float\n",
    "        Width of Gausian PSD\n",
    "\n",
    "    Returns\n",
    "    -------\n",
    "    signal : numpy.ndarray\n",
    "        1D signal\n",
    "    \"\"\"\n",
    "    white_noise = np.random.normal(0, 1, T)\n",
    "    signal = gaussian_spectrum_1D(white_noise, epsilon, sample_period=1.0)\n",
    "    signal = (signal - np.mean(signal)) / np.std(signal)\n",
    "    return signal"
   ]
  },
  {
   "cell_type": "code",
   "execution_count": 7,
   "id": "analyzed-password",
   "metadata": {
    "deletable": false,
    "editable": false,
    "nbgrader": {
     "cell_type": "code",
     "checksum": "249aa8730f646fe27c6f8c8f41364d9c",
     "grade": true,
     "grade_id": "cell-e89e05a96328beef",
     "locked": true,
     "points": 1,
     "schema_version": 3,
     "solution": false,
     "task": false
    }
   },
   "outputs": [],
   "source": [
    "\"\"\" Test that function `generate_signal` is defined \"\"\"\n",
    "\n",
    "assert_var_defined(\"generate_signal\", func=True)"
   ]
  },
  {
   "cell_type": "markdown",
   "id": "forbidden-boost",
   "metadata": {
    "deletable": false,
    "editable": false,
    "nbgrader": {
     "cell_type": "markdown",
     "checksum": "fad5e89890fa73e147251c18655a2181",
     "grade": false,
     "grade_id": "cell-9f83d57e746232e5",
     "locked": true,
     "schema_version": 3,
     "solution": false,
     "task": false
    }
   },
   "source": [
    "### 1.2 Study the effect of $\\epsilon$ in your function\n",
    "\n",
    "#### 1.2 a) Generate and plot two signals (1 point)\n",
    "Use the function from the task above to generate two independent 1D-signals with $\\epsilon = \\frac{1}{\\tau^2}$. Each signal should have the same length of $T=1000$ samples, but substantially different $\\tau$-values. Use $\\tau_{1}=30$ for the first signal and $\\tau_{2}=100$ for the second signal. Store the signals in variables with names `signal1` and `signal2`. Plot both signals into a single figure."
   ]
  },
  {
   "cell_type": "code",
   "execution_count": 8,
   "id": "timely-fourth",
   "metadata": {
    "deletable": false,
    "nbgrader": {
     "cell_type": "code",
     "checksum": "7d32c53c4a1bdf271b7712e9ffd91168",
     "grade": false,
     "grade_id": "cell-058e4a27753870c8",
     "locked": false,
     "schema_version": 3,
     "solution": true,
     "task": false
    }
   },
   "outputs": [],
   "source": [
    "T = 1000\n",
    "tau1 = 30\n",
    "tau2 = 100\n",
    "epsilon1 = 1/(tau1**2)\n",
    "epsilon2 = 1/(tau2**2)\n",
    "\n",
    "signal1 = generate_signal(T=T, epsilon=epsilon1)\n",
    "signal2 = generate_signal(T=T, epsilon=epsilon2)"
   ]
  },
  {
   "cell_type": "code",
   "execution_count": 9,
   "id": "1122481c",
   "metadata": {},
   "outputs": [
    {
     "data": {
      "image/png": "[encoded data removed]",
      "text/plain": [
       "<Figure size 640x480 with 1 Axes>"
      ]
     },
     "metadata": {},
     "output_type": "display_data"
    }
   ],
   "source": [
    "plt.plot(np.arange(0, T, 1), signal1, color='red', label='signal1')\n",
    "plt.plot(np.arange(0, T, 1), signal2, color='green', label='signal2')\n",
    "\n",
    "plt.xlabel('Time')\n",
    "plt.ylabel('Value')\n",
    "plt.legend()\n",
    "plt.show()"
   ]
  },
  {
   "cell_type": "code",
   "execution_count": 10,
   "id": "violent-template",
   "metadata": {
    "deletable": false,
    "editable": false,
    "nbgrader": {
     "cell_type": "code",
     "checksum": "70d5c59626f909e6cb3949420daa4473",
     "grade": true,
     "grade_id": "cell-dc943c73af8d63d8",
     "locked": true,
     "points": 1,
     "schema_version": 3,
     "solution": false,
     "task": false
    }
   },
   "outputs": [],
   "source": [
    "\"\"\" Test that variables `signal1` and `signal2` are defined \"\"\"\n",
    "\n",
    "for varname in [\"signal1\", \"signal2\"]:\n",
    "    assert_var_defined(varname)"
   ]
  },
  {
   "cell_type": "markdown",
   "id": "funky-florida",
   "metadata": {
    "deletable": false,
    "editable": false,
    "nbgrader": {
     "cell_type": "markdown",
     "checksum": "943c1b3af943d0b4996a994e274df9a1",
     "grade": false,
     "grade_id": "cell-a0d00435ad9f990d",
     "locked": true,
     "schema_version": 3,
     "solution": false,
     "task": false
    }
   },
   "source": [
    "#### 1.2 b) Discuss your results (1 point)\n",
    "How does $\\tau$ influence the characteristics of the signals?"
   ]
  },
  {
   "cell_type": "markdown",
   "id": "coastal-personality",
   "metadata": {
    "deletable": false,
    "nbgrader": {
     "cell_type": "markdown",
     "checksum": "5fd6601a1569296991d77207110812b3",
     "grade": true,
     "grade_id": "cell-eb43171206ba65e2",
     "locked": false,
     "points": 1,
     "schema_version": 3,
     "solution": true,
     "task": false
    }
   },
   "source": [
    "Increasing $\\tau$ appears to induce greater \"smoothness\" in the respective signal. Above, `signal2`, which has a higher $\\tau$,appears smoother than `signal1`. Since we are plotting with respect to time, we could say that increasing $\\tau$ induces greater time invariance in the signal."
   ]
  },
  {
   "cell_type": "markdown",
   "id": "double-optimum",
   "metadata": {
    "deletable": false,
    "editable": false,
    "nbgrader": {
     "cell_type": "markdown",
     "checksum": "802f066526329fbce571c051096fd3f9",
     "grade": false,
     "grade_id": "cell-452bc5a2fc67b94f",
     "locked": true,
     "schema_version": 3,
     "solution": false,
     "task": false
    }
   },
   "source": [
    "### 1.3 Perform Slow Feature Analysis (SFA)\n",
    "We will now perform linear SFA to see whether we can generate a slow signal by linearly combining the two signals we generated above."
   ]
  },
  {
   "cell_type": "markdown",
   "id": "unsigned-words",
   "metadata": {
    "deletable": false,
    "editable": false,
    "nbgrader": {
     "cell_type": "markdown",
     "checksum": "01ff1f64e4204eaaa5cbf238bed8fc03",
     "grade": false,
     "grade_id": "cell-22bb14a834c31361",
     "locked": true,
     "schema_version": 3,
     "solution": false,
     "task": false
    }
   },
   "source": [
    "#### 1.3 a) Compute the covariance matrix (0.5 points)\n",
    "\n",
    "In order to do so, first join the signals into a single 2x1000 matrix $X$. Compute the joint covariance matrix of both signals $C=cov(X)$, which should have a dimensionality of 2x2. Store both matrices in Python variables with the names `X` and `C`."
   ]
  },
  {
   "cell_type": "code",
   "execution_count": 47,
   "id": "brown-newspaper",
   "metadata": {
    "deletable": false,
    "nbgrader": {
     "cell_type": "code",
     "checksum": "0d8e806346020b940b6032da73d5d7a6",
     "grade": false,
     "grade_id": "cell-cd4a1c2432e95d66",
     "locked": false,
     "schema_version": 3,
     "solution": true,
     "task": false
    }
   },
   "outputs": [
    {
     "data": {
      "text/plain": [
       "array([[1000.        , -222.68888283],\n",
       "       [-222.68888283, 1000.        ]])"
      ]
     },
     "execution_count": 47,
     "metadata": {},
     "output_type": "execute_result"
    }
   ],
   "source": [
    "X = np.stack([signal1, signal2])\n",
    "C = X @ X.T\n",
    "C"
   ]
  },
  {
   "cell_type": "code",
   "execution_count": 48,
   "id": "checked-southwest",
   "metadata": {
    "deletable": false,
    "editable": false,
    "nbgrader": {
     "cell_type": "code",
     "checksum": "8f6aaf7326fdea6e863a4682fc6bda16",
     "grade": true,
     "grade_id": "cell-704880cdd673dcc9",
     "locked": true,
     "points": 0.5,
     "schema_version": 3,
     "solution": false,
     "task": false
    }
   },
   "outputs": [],
   "source": [
    "\"\"\" Test that variables `X` and `C` are defined \"\"\"\n",
    "\n",
    "for varname in [\"X\", \"C\"]:\n",
    "    assert_var_defined(varname)"
   ]
  },
  {
   "cell_type": "markdown",
   "id": "metallic-relative",
   "metadata": {
    "deletable": false,
    "editable": false,
    "nbgrader": {
     "cell_type": "markdown",
     "checksum": "1d1801b1995b167c20892f89f3a08aed",
     "grade": false,
     "grade_id": "cell-43e5f64e794a3dea",
     "locked": true,
     "schema_version": 3,
     "solution": false,
     "task": false
    }
   },
   "source": [
    "#### 1.3 b) Compute the matrix of second moments of the temporal derivatives (0.5 points)\n",
    "\n",
    "Now compute the matrix of second moments of the temporal derivative $\\dot C=\\frac{\\dot X \\dot X^{T}}{T-1}$ (Hint: use the function [`np.diff`](https://numpy.org/doc/stable/reference/generated/numpy.diff.html) for the derivative). Store your result in the variable `C_dot`. This matrix should also have a dimensionality of 2x2."
   ]
  },
  {
   "cell_type": "code",
   "execution_count": 50,
   "id": "starting-april",
   "metadata": {
    "deletable": false,
    "nbgrader": {
     "cell_type": "code",
     "checksum": "6f9ecc024224f85aa8f907ef394ea284",
     "grade": false,
     "grade_id": "cell-39a2ce6d1e1d9ca7",
     "locked": false,
     "schema_version": 3,
     "solution": true,
     "task": false
    }
   },
   "outputs": [
    {
     "data": {
      "text/plain": [
       "array([[ 0.03492047, -0.00036143],\n",
       "       [-0.00036143,  0.00395001]])"
      ]
     },
     "execution_count": 50,
     "metadata": {},
     "output_type": "execute_result"
    }
   ],
   "source": [
    "X_dot = np.diff(X)\n",
    "C_dot = (X_dot @ X_dot.T) / (T - 1)\n",
    "C_dot"
   ]
  },
  {
   "cell_type": "code",
   "execution_count": 14,
   "id": "given-extension",
   "metadata": {
    "deletable": false,
    "editable": false,
    "nbgrader": {
     "cell_type": "code",
     "checksum": "8887fd370721c7e147a66960252b3612",
     "grade": true,
     "grade_id": "cell-56df9a9392ca1d5f",
     "locked": true,
     "points": 0.5,
     "schema_version": 3,
     "solution": false,
     "task": false
    }
   },
   "outputs": [],
   "source": [
    "\"\"\" Test that variable `C_dot` is defined \"\"\"\n",
    "\n",
    "assert_var_defined(\"C_dot\")"
   ]
  },
  {
   "cell_type": "markdown",
   "id": "secondary-fleece",
   "metadata": {
    "deletable": false,
    "editable": false,
    "nbgrader": {
     "cell_type": "markdown",
     "checksum": "ceb1acd64ba2539ba40c8e955cbb60ee",
     "grade": false,
     "grade_id": "cell-598ec81910d0e5f3",
     "locked": true,
     "schema_version": 3,
     "solution": false,
     "task": false
    }
   },
   "source": [
    "#### 1.3 c) Solve the Generalized Eigenvalue Problem (1 point)\n",
    "\n",
    "To perform SFA, we need to solve the Generalised Eigenvalue Problem of both matrices: $\\dot C \\vec{w} = \\lambda  C \\vec{w}$. Use the function [`scipy.linalg.eig`](https://docs.scipy.org/doc/scipy/reference/generated/scipy.linalg.eig.html) which provides as output the eigenvalues (as a vector) and eigenvectors (as a matrix, where the columns represent the vectors in the same order as the eigenvalues). Normalise the eigenvectors to length $1$. Store your results in the variables `eigenvalues` and `eigenvectors`."
   ]
  },
  {
   "cell_type": "code",
   "execution_count": 51,
   "id": "physical-arrest",
   "metadata": {
    "deletable": false,
    "nbgrader": {
     "cell_type": "code",
     "checksum": "9c0c9153ec14effd709bcb9e53f96485",
     "grade": false,
     "grade_id": "cell-a5f980536a3cc0af",
     "locked": false,
     "schema_version": 3,
     "solution": true,
     "task": false
    }
   },
   "outputs": [
    {
     "data": {
      "text/plain": [
       "array([[-0.97272417, -0.23196485],\n",
       "       [-0.01666311,  0.99986116]])"
      ]
     },
     "execution_count": 51,
     "metadata": {},
     "output_type": "execute_result"
    }
   ],
   "source": [
    "eigenvalues, ev_matrix = scipy.linalg.eig(C_dot, C)\n",
    "eigenvectors = ev_matrix.T\n",
    "norms = np.linalg.norm(eigenvectors, axis=1, keepdims=True)\n",
    "eigenvectors = eigenvectors / norms\n",
    "eigenvectors"
   ]
  },
  {
   "cell_type": "code",
   "execution_count": 52,
   "id": "stretch-collar",
   "metadata": {
    "deletable": false,
    "editable": false,
    "nbgrader": {
     "cell_type": "code",
     "checksum": "5c68ff6ff668e0e7fe0aaead9db64c77",
     "grade": true,
     "grade_id": "cell-33bf4935b9273a04",
     "locked": true,
     "points": 1,
     "schema_version": 3,
     "solution": false,
     "task": false
    }
   },
   "outputs": [],
   "source": [
    "\"\"\" Test that variables `eigenvalues` and `eigenvectors` are defined \"\"\"\n",
    "\n",
    "for varname in [\"eigenvalues\", \"eigenvectors\"]:\n",
    "    assert_var_defined(varname)"
   ]
  },
  {
   "cell_type": "markdown",
   "id": "herbal-flooring",
   "metadata": {
    "deletable": false,
    "editable": false,
    "nbgrader": {
     "cell_type": "markdown",
     "checksum": "6b39f8997b3a0cbd53fa3b40a376d326",
     "grade": false,
     "grade_id": "cell-44552bcfcc1a058b",
     "locked": true,
     "schema_version": 3,
     "solution": false,
     "task": false
    }
   },
   "source": [
    "#### 1.3 d) Discuss your results (2 points)\n",
    "The eigenvectors determine how the input signals are mixed by the SFA to generate the new (slow) signals. What kind of mixture do you ideally expect given how the data was generated? What does the empirical mixture look like, judging from the extracted eigenvectors?"
   ]
  },
  {
   "cell_type": "code",
   "execution_count": 17,
   "id": "environmental-phone",
   "metadata": {
    "deletable": false,
    "nbgrader": {
     "cell_type": "code",
     "checksum": "e882ad4bb884cfe13e2c1ae1e539b851",
     "grade": true,
     "grade_id": "cell-b9223c24ec04a704",
     "locked": false,
     "points": 0,
     "schema_version": 3,
     "solution": true,
     "task": false
    }
   },
   "outputs": [
    {
     "ename": "NotImplementedError",
     "evalue": "",
     "output_type": "error",
     "traceback": [
      "\u001b[0;31m---------------------------------------------------------------------------\u001b[0m",
      "\u001b[0;31mNotImplementedError\u001b[0m                       Traceback (most recent call last)",
      "Cell \u001b[0;32mIn[17], line 2\u001b[0m\n\u001b[1;32m      1\u001b[0m \u001b[38;5;66;03m# YOUR CODE HERE\u001b[39;00m\n\u001b[0;32m----> 2\u001b[0m \u001b[38;5;28;01mraise\u001b[39;00m \u001b[38;5;167;01mNotImplementedError\u001b[39;00m()\n",
      "\u001b[0;31mNotImplementedError\u001b[0m: "
     ]
    }
   ],
   "source": [
    "# YOUR CODE HERE\n",
    "raise NotImplementedError()"
   ]
  },
  {
   "cell_type": "markdown",
   "id": "printable-albuquerque",
   "metadata": {
    "deletable": false,
    "nbgrader": {
     "cell_type": "markdown",
     "checksum": "e5f6eaacb26da20e285f5fd5f96f2034",
     "grade": true,
     "grade_id": "cell-283d55b521afa517",
     "locked": false,
     "points": 2,
     "schema_version": 3,
     "solution": true,
     "task": false
    }
   },
   "source": [
    "YOUR ANSWER HERE"
   ]
  },
  {
   "cell_type": "markdown",
   "id": "promising-samoa",
   "metadata": {
    "deletable": false,
    "editable": false,
    "nbgrader": {
     "cell_type": "markdown",
     "checksum": "718ff36afa0d6b86e0c55ffd6444b047",
     "grade": false,
     "grade_id": "cell-f51566e7a7651000",
     "locked": true,
     "schema_version": 3,
     "solution": false,
     "task": false
    }
   },
   "source": [
    "### 1.4 Perform SFA on signals of different lengths"
   ]
  },
  {
   "cell_type": "markdown",
   "id": "mathematical-cleaning",
   "metadata": {
    "deletable": false,
    "editable": false,
    "nbgrader": {
     "cell_type": "markdown",
     "checksum": "fa4654196c22c4ff73bd2e242a9033ad",
     "grade": false,
     "grade_id": "cell-2b60a5865e05d1dc",
     "locked": true,
     "schema_version": 3,
     "solution": false,
     "task": false
    }
   },
   "source": [
    "#### 1.4 a) Perform SFA (1 point)\n",
    "\n",
    "Repeat task 1.3 a) - c) with different signal sample sizes (ranging logarithmically from $10-10000$ in 20 steps) and store the resulting normalised eigenvectors (Hint: Write another function that accepts as input the sample size and outputs the normalised SFA-eigenvectors). Plot the four individual components of the eigenvectors against the number of samples."
   ]
  },
  {
   "cell_type": "code",
   "execution_count": 61,
   "id": "danish-blood",
   "metadata": {
    "deletable": false,
    "nbgrader": {
     "cell_type": "code",
     "checksum": "df5186011ccbb17260d159c5de9b4908",
     "grade": true,
     "grade_id": "cell-4069289b268e250a",
     "locked": false,
     "points": 1,
     "schema_version": 3,
     "solution": true,
     "task": false
    }
   },
   "outputs": [],
   "source": [
    "def calculate_SFA_eigenvectors(T):\n",
    "    tau1 = 30\n",
    "    tau2 = 100\n",
    "    epsilon1 = 1/(tau1**2)\n",
    "    epsilon2 = 1/(tau2**2)\n",
    "\n",
    "    signal1 = generate_signal(T=T, epsilon=epsilon1)\n",
    "    signal2 = generate_signal(T=T, epsilon=epsilon2)\n",
    "\n",
    "    X = np.stack([signal1, signal2])\n",
    "    C = X @ X.T\n",
    "    X_dot = np.diff(X)\n",
    "    C_dot = (X_dot @ X_dot.T) / (T - 1)\n",
    "    eigenvalues, ev_matrix = scipy.linalg.eig(C_dot, C)\n",
    "    eigenvectors = ev_matrix.T\n",
    "    norms = np.linalg.norm(eigenvectors, axis=1, keepdims=True)\n",
    "    eigenvectors = eigenvectors / norms\n",
    "    \n",
    "    return eigenvectors"
   ]
  },
  {
   "cell_type": "code",
   "execution_count": 62,
   "id": "9fdd4571",
   "metadata": {},
   "outputs": [
    {
     "name": "stdout",
     "output_type": "stream",
     "text": [
      "[[[-0.99022417 -0.13948509]\n",
      "  [ 0.22602742  0.97412094]]\n",
      "\n",
      " [[-0.8332559  -0.55288751]\n",
      "  [-0.04919035  0.99878942]]\n",
      "\n",
      " [[-0.98798676 -0.15453852]\n",
      "  [ 0.2762508   0.96108558]]\n",
      "\n",
      " [[-0.74129468  0.67117971]\n",
      "  [-0.18376313  0.98297056]]\n",
      "\n",
      " [[-0.85062116  0.52577908]\n",
      "  [-0.03102317  0.99951867]]\n",
      "\n",
      " [[-0.98449943 -0.17538778]\n",
      "  [ 0.05213399  0.9986401 ]]\n",
      "\n",
      " [[-0.99907979 -0.04289017]\n",
      "  [-0.03101272  0.99951899]]\n",
      "\n",
      " [[-0.95389653 -0.30013566]\n",
      "  [-0.05139855  0.99867822]]\n",
      "\n",
      " [[-0.98315292 -0.18278494]\n",
      "  [-0.03361389  0.99943489]]\n",
      "\n",
      " [[-0.98183956 -0.18971316]\n",
      "  [-0.01462771  0.99989301]]\n",
      "\n",
      " [[-0.97817704 -0.20777314]\n",
      "  [ 0.00958766  0.99995404]]\n",
      "\n",
      " [[-0.99943237  0.03368885]\n",
      "  [-0.00436083  0.99999049]]\n",
      "\n",
      " [[-0.97697102 -0.21337202]\n",
      "  [-0.01512796  0.99988557]]\n",
      "\n",
      " [[-0.99845943 -0.0554867 ]\n",
      "  [-0.01897655  0.99981993]]\n",
      "\n",
      " [[-0.9988373   0.04820838]\n",
      "  [ 0.00955055  0.99995439]]\n",
      "\n",
      " [[-0.99837164  0.05704438]\n",
      "  [-0.0073154   0.99997324]]\n",
      "\n",
      " [[-0.99998885  0.00472257]\n",
      "  [-0.00482033  0.99998838]]\n",
      "\n",
      " [[-0.99884144 -0.04812249]\n",
      "  [-0.00641966  0.99997939]]\n",
      "\n",
      " [[-0.99981422 -0.01927502]\n",
      "  [ 0.00104156  0.99999946]]\n",
      "\n",
      " [[-0.99981399  0.0192869 ]\n",
      "  [ 0.00109304  0.9999994 ]]]\n"
     ]
    },
    {
     "data": {
      "image/png": "[encoded data removed]",
      "text/plain": [
       "<Figure size 640x480 with 1 Axes>"
      ]
     },
     "metadata": {},
     "output_type": "display_data"
    }
   ],
   "source": [
    "sample_sizes = np.logspace(1, 4, 20, base=10.0)\n",
    "eigenvectors = []\n",
    "\n",
    "for sample_size in sample_sizes:\n",
    "    eigenvectors.append(calculate_SFA_eigenvectors(int(sample_size)))\n",
    "\n",
    "eigenvectors = np.stack(eigenvectors)\n",
    "print(eigenvectors)\n",
    "idx_components = eigenvectors[0].shape\n",
    "\n",
    "plt.plot(sample_sizes, eigenvectors[:, 0, 0], label='Component 0,0')\n",
    "plt.plot(sample_sizes, eigenvectors[:, 0, 1], label='Component 0,1')\n",
    "plt.plot(sample_sizes, eigenvectors[:, 1, 0], label='Component 1,0')\n",
    "plt.plot(sample_sizes, eigenvectors[:, 1, 1], label='Component 1,1')\n",
    "\n",
    "plt.xlabel('Sample Size')\n",
    "plt.ylabel('Value')\n",
    "plt.legend()\n",
    "plt.show()\n"
   ]
  },
  {
   "cell_type": "markdown",
   "id": "expensive-static",
   "metadata": {
    "deletable": false,
    "editable": false,
    "nbgrader": {
     "cell_type": "markdown",
     "checksum": "dcd05ff9666020321ecaadc2401f8df7",
     "grade": false,
     "grade_id": "cell-9306e5ce269c74eb",
     "locked": true,
     "schema_version": 3,
     "solution": false,
     "task": false
    }
   },
   "source": [
    "#### 1.4 b) Discuss your results (1 point)\n",
    "How does the SFA-mixture change depending on the length of the input signal? Can you give an intuition why?"
   ]
  },
  {
   "cell_type": "markdown",
   "id": "numeric-advisory",
   "metadata": {
    "deletable": false,
    "nbgrader": {
     "cell_type": "markdown",
     "checksum": "ddb94c6dd63c14f42e87578fe6d58b91",
     "grade": true,
     "grade_id": "cell-68284d3f8bd979d6",
     "locked": false,
     "points": 1,
     "schema_version": 3,
     "solution": true,
     "task": false
    }
   },
   "source": [
    "YOUR ANSWER HERE"
   ]
  },
  {
   "cell_type": "markdown",
   "id": "canadian-check",
   "metadata": {
    "deletable": false,
    "editable": false,
    "nbgrader": {
     "cell_type": "markdown",
     "checksum": "d503c81c32509d9cc94c0154bbc7a4d2",
     "grade": false,
     "grade_id": "cell-d340cf05f3855c2f",
     "locked": true,
     "schema_version": 3,
     "solution": false,
     "task": false
    }
   },
   "source": [
    "### 1.5: How do the eigenvalues depend on $\\tau$? (1 point)\n",
    "How do the eigenvalues depend on the $\\tau$'s that you chose. If you are unsure, try different combinations of $\\tau_{1}$ and $\\tau_{2}$. Also, longer signals will reduce errors in the numerical relationship."
   ]
  },
  {
   "cell_type": "markdown",
   "id": "failing-junction",
   "metadata": {
    "deletable": false,
    "nbgrader": {
     "cell_type": "markdown",
     "checksum": "b9dffb9b76461458647f761d9740d8bd",
     "grade": true,
     "grade_id": "cell-4acdbb1aae5bbbd1",
     "locked": false,
     "points": 1,
     "schema_version": 3,
     "solution": true,
     "task": false
    }
   },
   "source": [
    "YOUR ANSWER HERE"
   ]
  },
  {
   "cell_type": "markdown",
   "id": "otherwise-bedroom",
   "metadata": {
    "deletable": false,
    "editable": false,
    "nbgrader": {
     "cell_type": "markdown",
     "checksum": "931726ce07bff6c6398db286d5e356dd",
     "grade": false,
     "grade_id": "cell-7602efd8fddc69ee",
     "locked": true,
     "schema_version": 3,
     "solution": false,
     "task": false
    }
   },
   "source": [
    "## Exercise 2: SFA on a high-dimensional correlated signal (10 points)\n",
    "\n",
    "In this task, we will use linear SFA to learn 1D-receptive fields. We first generate a large \"1D-image\" and then slide a small visual field across this image. In this way we simulate a slowly moving input to the receptive field of a hypothetical visual cell."
   ]
  },
  {
   "cell_type": "markdown",
   "id": "requested-collar",
   "metadata": {
    "deletable": false,
    "editable": false,
    "nbgrader": {
     "cell_type": "markdown",
     "checksum": "25f2564507467d1f89a35d9241a6a387",
     "grade": false,
     "grade_id": "cell-040fa4c214e58bee",
     "locked": true,
     "schema_version": 3,
     "solution": false,
     "task": false
    }
   },
   "source": [
    "### 2.1 Generate a 1D image (0.5 points)\n",
    "Generate a 1D-image of length $L=10000$ pixels with the same power spectral density as before, but with $\\epsilon= 0.04$ (use your implementation of `generate_signal` from exercise 1). Store this image in the variable `image`."
   ]
  },
  {
   "cell_type": "code",
   "execution_count": null,
   "id": "spectacular-paragraph",
   "metadata": {
    "deletable": false,
    "nbgrader": {
     "cell_type": "code",
     "checksum": "dda22040b7b1bea9ecba908eb0ffb7fc",
     "grade": false,
     "grade_id": "cell-17226a752196a3c0",
     "locked": false,
     "schema_version": 3,
     "solution": true,
     "task": false
    }
   },
   "outputs": [],
   "source": [
    "# YOUR CODE HERE\n",
    "raise NotImplementedError()"
   ]
  },
  {
   "cell_type": "code",
   "execution_count": null,
   "id": "hearing-pipeline",
   "metadata": {
    "deletable": false,
    "editable": false,
    "nbgrader": {
     "cell_type": "code",
     "checksum": "af6514ebbe1a445660fbc36d65b061ed",
     "grade": true,
     "grade_id": "cell-48da5c778cfdf687",
     "locked": true,
     "points": 0.5,
     "schema_version": 3,
     "solution": false,
     "task": false
    }
   },
   "outputs": [],
   "source": [
    "\"\"\" Test that variable `image` is defined \"\"\"\n",
    "\n",
    "assert_var_defined(\"image\")"
   ]
  },
  {
   "cell_type": "markdown",
   "id": "biological-gallery",
   "metadata": {
    "deletable": false,
    "editable": false,
    "nbgrader": {
     "cell_type": "markdown",
     "checksum": "2940c76bf1536a8342b3a447b35af11c",
     "grade": false,
     "grade_id": "cell-5a94887aabca10fd",
     "locked": true,
     "schema_version": 3,
     "solution": false,
     "task": false
    }
   },
   "source": [
    "### 2.2 Generate sensory experiences (2 points)\n",
    "Extract a time-dependent receptive field input by sliding a window of length $l=100$ pixels across the entire image. The portion of the image that is covered by the window represents the current input to the visual cell. Starting from the left, the window is shifted to the right by one pixel in each time step. The width of the window determines the dimensionality of the receptive field input. Generate a matrix $X_{\\text{image}}$ containing the complete receptive field input recorded while the window is sliding over the image. It should have a dimensionality of 100x9901: 100 variables describing the current image, each with 9901 samples over time. Make sure that the average input to each pixel of the receptive field is zero, i.e. each row of the matrix should have zero-mean. Store your final matrix in the variabla `X_image`.\n",
    "\n",
    "<img src=\"sliding_window.png\" width=300px />"
   ]
  },
  {
   "cell_type": "code",
   "execution_count": null,
   "id": "editorial-practice",
   "metadata": {
    "deletable": false,
    "nbgrader": {
     "cell_type": "code",
     "checksum": "d151c307a52b58baabcba43b94ecde15",
     "grade": false,
     "grade_id": "cell-281edf5534acb935",
     "locked": false,
     "schema_version": 3,
     "solution": true,
     "task": false
    }
   },
   "outputs": [],
   "source": [
    "# YOUR CODE HERE\n",
    "raise NotImplementedError()"
   ]
  },
  {
   "cell_type": "code",
   "execution_count": null,
   "id": "ignored-allocation",
   "metadata": {
    "deletable": false,
    "editable": false,
    "nbgrader": {
     "cell_type": "code",
     "checksum": "664b6873cc91dc79c4c855a69752007c",
     "grade": true,
     "grade_id": "cell-b5ee3ae29bd9fd74",
     "locked": true,
     "points": 2,
     "schema_version": 3,
     "solution": false,
     "task": false
    }
   },
   "outputs": [],
   "source": [
    "\"\"\" Test that variable `X_image` is defined \"\"\"\n",
    "\n",
    "assert_var_defined(\"X_image\")"
   ]
  },
  {
   "cell_type": "markdown",
   "id": "interesting-lesson",
   "metadata": {
    "deletable": false,
    "editable": false,
    "nbgrader": {
     "cell_type": "markdown",
     "checksum": "e207a19397dc96e5d79a739c8cb29648",
     "grade": false,
     "grade_id": "cell-03b1d2041accdab7",
     "locked": true,
     "schema_version": 3,
     "solution": false,
     "task": false
    }
   },
   "source": [
    "### 2.3 Perform SFA (2 points)\n",
    "Compute the covariance matrix $C_{\\text{image}}$ of the high-dimensional signal $X_{\\text{image}}$ as well as the matrix $\\dot C_{\\text{image}}$ of the second moments of its temporal derivative $\\dot X_{\\text{image}}$. Solve the Generalised Eigenvalue Problem $\\dot C _{\\text{image}}\\vec{w} = \\lambda  C_{\\text{image}} \\vec{w}$ using the function [`scipy.linalg.eig`](https://docs.scipy.org/doc/scipy/reference/generated/scipy.linalg.eig.html). There will be 100 eigenvalues $\\Lambda = [\\lambda_0, \\cdots, \\lambda_{99}]$ and as many eigenvectors, each with a dimensionality of 100, represented in a matrix $W$. Store the eigenvalues in the variable `Lamda` and the matrix of eigenvectors in the variable `W`."
   ]
  },
  {
   "cell_type": "code",
   "execution_count": null,
   "id": "atmospheric-research",
   "metadata": {
    "deletable": false,
    "nbgrader": {
     "cell_type": "code",
     "checksum": "177f3ce6900f1f385f53e9ee63fada81",
     "grade": false,
     "grade_id": "cell-426b80ede2de908e",
     "locked": false,
     "schema_version": 3,
     "solution": true,
     "task": false
    }
   },
   "outputs": [],
   "source": [
    "# YOUR CODE HERE\n",
    "raise NotImplementedError()"
   ]
  },
  {
   "cell_type": "code",
   "execution_count": null,
   "id": "15a173ec",
   "metadata": {},
   "outputs": [],
   "source": [
    "X_image_dot.shape"
   ]
  },
  {
   "cell_type": "code",
   "execution_count": null,
   "id": "chemical-mongolia",
   "metadata": {
    "deletable": false,
    "editable": false,
    "nbgrader": {
     "cell_type": "code",
     "checksum": "5e4135e91c54ff62169a692c6ea20921",
     "grade": true,
     "grade_id": "cell-9c7a5edsdfwefwef",
     "locked": true,
     "points": 2,
     "schema_version": 3,
     "solution": false,
     "task": false
    }
   },
   "outputs": [],
   "source": [
    "\"\"\" Test that variables `Lamda` and `W` are defined \"\"\"\n",
    "\n",
    "for varname in [\"Lamda\", \"W\"]:\n",
    "    assert_var_defined(varname)"
   ]
  },
  {
   "cell_type": "markdown",
   "id": "suited-timer",
   "metadata": {
    "deletable": false,
    "editable": false,
    "nbgrader": {
     "cell_type": "markdown",
     "checksum": "904e27666f9fbf2833d01926adce1892",
     "grade": false,
     "grade_id": "cell-1a868bc2bffd0110",
     "locked": true,
     "schema_version": 3,
     "solution": false,
     "task": false
    }
   },
   "source": [
    "### 2.4 Plot the slowest SFA-components"
   ]
  },
  {
   "cell_type": "markdown",
   "id": "dependent-guitar",
   "metadata": {
    "deletable": false,
    "editable": false,
    "nbgrader": {
     "cell_type": "markdown",
     "checksum": "932b589c39c72f9e8840494686556d13",
     "grade": false,
     "grade_id": "cell-222abf0b5f89db56",
     "locked": true,
     "schema_version": 3,
     "solution": false,
     "task": false
    }
   },
   "source": [
    "#### 2.4 a) Sort the eigenvectors (1 point)\n",
    "Sort the eigenvectors according to the magnitude of the corresponding eigenvalues. This gives you a matrix $W_{\\text{sorted}}$ of the same shape as $W$. Store this matrix in the variable `W_sorted`."
   ]
  },
  {
   "cell_type": "code",
   "execution_count": null,
   "id": "reduced-delaware",
   "metadata": {
    "deletable": false,
    "nbgrader": {
     "cell_type": "code",
     "checksum": "a852135b313ff2b3235b252570c65fa3",
     "grade": false,
     "grade_id": "cell-0160b64accee8345",
     "locked": false,
     "schema_version": 3,
     "solution": true,
     "task": false
    }
   },
   "outputs": [],
   "source": [
    "# YOUR CODE HERE\n",
    "raise NotImplementedError()"
   ]
  },
  {
   "cell_type": "code",
   "execution_count": null,
   "id": "right-tiger",
   "metadata": {
    "deletable": false,
    "editable": false,
    "nbgrader": {
     "cell_type": "code",
     "checksum": "a469babc3a181bdec3f2bacbe20f1ae4",
     "grade": true,
     "grade_id": "cell-590e0aaf3906966b",
     "locked": true,
     "points": 1,
     "schema_version": 3,
     "solution": false,
     "task": false
    }
   },
   "outputs": [],
   "source": [
    "\"\"\" Test that variable `W_sorted` is defined \"\"\"\n",
    "\n",
    "assert_var_defined(\"W_sorted\")"
   ]
  },
  {
   "cell_type": "markdown",
   "id": "constitutional-tunisia",
   "metadata": {
    "deletable": false,
    "editable": false,
    "nbgrader": {
     "cell_type": "markdown",
     "checksum": "e41bb568aa12a949bf3b200861fe322f",
     "grade": false,
     "grade_id": "cell-07a39cbc3ffeffeb",
     "locked": true,
     "schema_version": 3,
     "solution": false,
     "task": false
    }
   },
   "source": [
    "#### 2.4 b) Plot the eigenvectors (0.5 points)\n",
    "Extract the eigenvectors that correspond to the five slowest SFA-components, i.e. the ones with the smallest eigenvalues. Plot these eigenvectors."
   ]
  },
  {
   "cell_type": "code",
   "execution_count": null,
   "id": "genuine-louisiana",
   "metadata": {
    "deletable": false,
    "nbgrader": {
     "cell_type": "code",
     "checksum": "e3e5842295a6c861c46427199858aff2",
     "grade": true,
     "grade_id": "cell-2fdabd176efc635f",
     "locked": false,
     "points": 0.5,
     "schema_version": 3,
     "solution": true,
     "task": false
    }
   },
   "outputs": [],
   "source": [
    "# YOUR CODE HERE\n",
    "raise NotImplementedError()"
   ]
  },
  {
   "cell_type": "markdown",
   "id": "marine-vintage",
   "metadata": {
    "deletable": false,
    "editable": false,
    "nbgrader": {
     "cell_type": "markdown",
     "checksum": "a298b01cd3e066ca3cce3f690aa6ce03",
     "grade": false,
     "grade_id": "cell-7848fdc8f3cdf3c9",
     "locked": true,
     "schema_version": 3,
     "solution": false,
     "task": false
    }
   },
   "source": [
    "#### 2.4 c) Discuss your results (2 points)\n",
    "How do you interpret the shape of the eigenvectors? In which way do the characteristics of the eigenvectors correspond to the intentions underlying SFA? Discuss the properties of the eigenvectors at the boundaries of the receptive fields (Hint: think about how these boundaries react when sliding over edges in the image). How does the shape of these eigenvectors relate to the structure of the receptive fields in primary visual cortex V1?"
   ]
  },
  {
   "cell_type": "markdown",
   "id": "disciplinary-vienna",
   "metadata": {
    "deletable": false,
    "nbgrader": {
     "cell_type": "markdown",
     "checksum": "d0bff8e682ae3752682466140333383d",
     "grade": true,
     "grade_id": "cell-8661f409f383fec9",
     "locked": false,
     "points": 2,
     "schema_version": 3,
     "solution": true,
     "task": false
    }
   },
   "source": [
    "YOUR ANSWER HERE"
   ]
  },
  {
   "cell_type": "markdown",
   "id": "through-crest",
   "metadata": {
    "deletable": false,
    "editable": false,
    "nbgrader": {
     "cell_type": "markdown",
     "checksum": "e8cdf3d5e2e66dd5e65cac2bac29ed93",
     "grade": false,
     "grade_id": "cell-2f270f3eb25a58bf",
     "locked": true,
     "schema_version": 3,
     "solution": false,
     "task": false
    }
   },
   "source": [
    "### 2.5 Compute the SFA-features of the original signal\n",
    "As a last step we will use the extracted SFA-eigenvectors in $W_{\\text{sorted}}$ to project the original signal (which was generated in the pixel-basis) onto the new SFA-basis.\n"
   ]
  },
  {
   "cell_type": "markdown",
   "id": "heated-feedback",
   "metadata": {
    "deletable": false,
    "editable": false,
    "nbgrader": {
     "cell_type": "markdown",
     "checksum": "2ed23ed2e0838d70a5821c55a0ba9b24",
     "grade": false,
     "grade_id": "cell-7b5563a8fdec7cd3",
     "locked": true,
     "schema_version": 3,
     "solution": false,
     "task": false
    }
   },
   "source": [
    "#### 2.5 a) Project the signal onto the new SFA-basis (1 point)\n",
    "\n",
    "Determine the signal in the SFA-basis $Y$ by multiplying the eigenvectors with the signal ($Y=W_{\\text{sorted}}^{T}X_{\\text{image}}$). Plot the five slowest components of the SFA-signal into a single graph (you may add a $y$-axis-offset to each component so they don't overlay)."
   ]
  },
  {
   "cell_type": "code",
   "execution_count": null,
   "id": "spiritual-scanner",
   "metadata": {
    "deletable": false,
    "nbgrader": {
     "cell_type": "code",
     "checksum": "8fc67b8e23d23d332a2db0a7d3ee0764",
     "grade": true,
     "grade_id": "cell-23387e4c32fa3b3e",
     "locked": false,
     "points": 1,
     "schema_version": 3,
     "solution": true,
     "task": false
    }
   },
   "outputs": [],
   "source": [
    "# YOUR CODE HERE\n",
    "raise NotImplementedError()"
   ]
  },
  {
   "cell_type": "markdown",
   "id": "egyptian-modem",
   "metadata": {
    "deletable": false,
    "editable": false,
    "nbgrader": {
     "cell_type": "markdown",
     "checksum": "11f7edbfa3802848642936ba44deefa3",
     "grade": false,
     "grade_id": "cell-3dc1a1a1c770ec8c",
     "locked": true,
     "schema_version": 3,
     "solution": false,
     "task": false
    }
   },
   "source": [
    "#### 2.5 b) Discuss your results (1 point)\n",
    "Did the *Slow* Feature Analysis succeed?"
   ]
  },
  {
   "cell_type": "markdown",
   "id": "premium-treasure",
   "metadata": {
    "deletable": false,
    "nbgrader": {
     "cell_type": "markdown",
     "checksum": "95486307a90c7162dfdbb758e9c34904",
     "grade": true,
     "grade_id": "cell-92ad909f1533a004",
     "locked": false,
     "points": 1,
     "schema_version": 3,
     "solution": true,
     "task": false
    }
   },
   "source": [
    "YOUR ANSWER HERE"
   ]
  }
 ],
 "metadata": {
  "kernelspec": {
   "display_name": "Python 3 (ipykernel)",
   "language": "python",
   "name": "python3"
  },
  "language_info": {
   "codemirror_mode": {
    "name": "ipython",
    "version": 3
   },
   "file_extension": ".py",
   "mimetype": "text/x-python",
   "name": "python",
   "nbconvert_exporter": "python",
   "pygments_lexer": "ipython3",
   "version": "3.12.3"
  },
  "toc": {
   "base_numbering": 1,
   "nav_menu": {},
   "number_sections": false,
   "sideBar": false,
   "skip_h1_title": true,
   "title_cell": "Table of Contents",
   "title_sidebar": "Contents",
   "toc_cell": true,
   "toc_position": {
    "height": "912.214px",
    "left": "25px",
    "top": "110.64px",
    "width": "165px"
   },
   "toc_section_display": true,
   "toc_window_display": true
  }
 },
 "nbformat": 4,
 "nbformat_minor": 5
}
